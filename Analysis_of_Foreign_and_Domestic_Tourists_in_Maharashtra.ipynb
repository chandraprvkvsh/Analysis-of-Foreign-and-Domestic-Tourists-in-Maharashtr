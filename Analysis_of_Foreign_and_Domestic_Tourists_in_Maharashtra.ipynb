{
  "nbformat": 4,
  "nbformat_minor": 0,
  "metadata": {
    "colab": {
      "provenance": [],
      "collapsed_sections": [
        "NekqFuz_ualu",
        "zpNLLjyFLc5D"
      ]
    },
    "kernelspec": {
      "name": "python3",
      "display_name": "Python 3"
    },
    "language_info": {
      "name": "python"
    }
  },
  "cells": [
    {
      "cell_type": "markdown",
      "source": [
        "#**Analysis of Foreign and Domestic Tourists in Maharashtra**\n"
      ],
      "metadata": {
        "id": "pT13StMKf7EF"
      }
    },
    {
      "cell_type": "code",
      "source": [
        "from google.colab import drive\n",
        "drive.mount('/content/drive')"
      ],
      "metadata": {
        "colab": {
          "base_uri": "https://localhost:8080/"
        },
        "id": "1SE_ja7Gijwg",
        "outputId": "d6a88309-51f1-43cf-9d82-488517fac0ae"
      },
      "execution_count": null,
      "outputs": [
        {
          "output_type": "stream",
          "name": "stdout",
          "text": [
            "Mounted at /content/drive\n"
          ]
        }
      ]
    },
    {
      "cell_type": "markdown",
      "source": [
        "### Required Imports"
      ],
      "metadata": {
        "id": "ubpYWFKwf_qm"
      }
    },
    {
      "cell_type": "code",
      "execution_count": null,
      "metadata": {
        "id": "EQCf-x_Lf2ht"
      },
      "outputs": [],
      "source": [
        "import numpy as np\n",
        "import pandas as pd\n",
        "import matplotlib.pyplot as plt\n",
        "import sqlite3"
      ]
    },
    {
      "cell_type": "markdown",
      "source": [
        "##### Libraries Used.\n",
        "\n",
        "\n",
        "1.   Numpy : For all array/matrix and Linear Algebra routines.\n",
        "2.   Pandas : For reading the Datset from .xlsx format, basic EDA and visualizations.\n",
        "3.   Matplotlib : For all the plots generated in the Notebook.\n",
        "4.   Sqlite3 : To create a DataBase which stores the Dataset and enables us to make SQL like queries and fetch results from it.\n",
        "\n"
      ],
      "metadata": {
        "id": "9vOcKNPl17GG"
      }
    },
    {
      "cell_type": "markdown",
      "source": [
        "### Loading the Dataset"
      ],
      "metadata": {
        "id": "DB9RGUBFgOil"
      }
    },
    {
      "cell_type": "code",
      "source": [
        "# We use pandas to read the dataset stored as .xlsx format\n",
        "\n",
        "filename = \"final_Maharashtra-Dataset.xlsx\"\n",
        "tour_2011_df = pd.read_excel(filename, sheet_name = 0)\n",
        "tour_2012_df = pd.read_excel(filename, sheet_name = 1)\n",
        "tour_2013_df = pd.read_excel(filename, sheet_name = 2)\n",
        "tour_2014_df = pd.read_excel(filename, sheet_name = 3)"
      ],
      "metadata": {
        "id": "_UNJwO8-gN-9"
      },
      "execution_count": null,
      "outputs": []
    },
    {
      "cell_type": "code",
      "source": [
        "# No. of tourists visiting Maharashtra in 2011\n",
        "\n",
        "tour_2011_df.head()"
      ],
      "metadata": {
        "colab": {
          "base_uri": "https://localhost:8080/",
          "height": 285
        },
        "id": "M5pz6uiMh_Je",
        "outputId": "5c017bd5-c74b-43a0-c512-eb20877591bc"
      },
      "execution_count": null,
      "outputs": [
        {
          "output_type": "execute_result",
          "data": {
            "text/plain": [
              "                 Destination    District    Month  Domestic Visits  \\\n",
              "0                     Shirdi  AHMEDNAGAR  January        1274940.0   \n",
              "1              Shanisignapur  AHMEDNAGAR  January         795211.0   \n",
              "2  Siddhivinayak - Siddhatek  AHMEDNAGAR  January          24950.0   \n",
              "3            Ahmednagar fort  AHMEDNAGAR  January            254.0   \n",
              "4                      Newas  AHMEDNAGAR  January         186629.0   \n",
              "\n",
              "   Foreign Visits  Total Visits  Age: 15-24 yrs     Age: 25-34 yrs  \\\n",
              "0          1276.0     1276216.0           255243.2       574297.20   \n",
              "1           796.0      796007.0           159201.4       358203.15   \n",
              "2             0.0       24950.0             4990.0        11227.50   \n",
              "3             0.0         254.0               50.8          114.30   \n",
              "4             0.0      186629.0            37325.8        83983.05   \n",
              "\n",
              "   Age: 35-44 yrs  Age: 45-60 yrs  Age:  > 60 yrs  Male:Female  \\\n",
              "0       268005.36       165908.08        12762.16     4.263158   \n",
              "1       167161.47       103480.91         7960.07     4.263158   \n",
              "2         5239.50         3243.50          249.50     4.263158   \n",
              "3           53.34           33.02            2.54     4.263158   \n",
              "4        39192.09        24261.77         1866.29     4.263158   \n",
              "\n",
              "   Purpose: Leisure  Purpose: Non-Leisure  \n",
              "0        1033734.96             242481.04  \n",
              "1         644765.67             151241.33  \n",
              "2          20209.50               4740.50  \n",
              "3            205.74                 48.26  \n",
              "4         151169.49              35459.51  "
            ],
            "text/html": [
              "\n",
              "  <div id=\"df-7c12e23f-78dc-454e-a907-acc842595955\">\n",
              "    <div class=\"colab-df-container\">\n",
              "      <div>\n",
              "<style scoped>\n",
              "    .dataframe tbody tr th:only-of-type {\n",
              "        vertical-align: middle;\n",
              "    }\n",
              "\n",
              "    .dataframe tbody tr th {\n",
              "        vertical-align: top;\n",
              "    }\n",
              "\n",
              "    .dataframe thead th {\n",
              "        text-align: right;\n",
              "    }\n",
              "</style>\n",
              "<table border=\"1\" class=\"dataframe\">\n",
              "  <thead>\n",
              "    <tr style=\"text-align: right;\">\n",
              "      <th></th>\n",
              "      <th>Destination</th>\n",
              "      <th>District</th>\n",
              "      <th>Month</th>\n",
              "      <th>Domestic Visits</th>\n",
              "      <th>Foreign Visits</th>\n",
              "      <th>Total Visits</th>\n",
              "      <th>Age: 15-24 yrs</th>\n",
              "      <th>Age: 25-34 yrs</th>\n",
              "      <th>Age: 35-44 yrs</th>\n",
              "      <th>Age: 45-60 yrs</th>\n",
              "      <th>Age:  &gt; 60 yrs</th>\n",
              "      <th>Male:Female</th>\n",
              "      <th>Purpose: Leisure</th>\n",
              "      <th>Purpose: Non-Leisure</th>\n",
              "    </tr>\n",
              "  </thead>\n",
              "  <tbody>\n",
              "    <tr>\n",
              "      <th>0</th>\n",
              "      <td>Shirdi</td>\n",
              "      <td>AHMEDNAGAR</td>\n",
              "      <td>January</td>\n",
              "      <td>1274940.0</td>\n",
              "      <td>1276.0</td>\n",
              "      <td>1276216.0</td>\n",
              "      <td>255243.2</td>\n",
              "      <td>574297.20</td>\n",
              "      <td>268005.36</td>\n",
              "      <td>165908.08</td>\n",
              "      <td>12762.16</td>\n",
              "      <td>4.263158</td>\n",
              "      <td>1033734.96</td>\n",
              "      <td>242481.04</td>\n",
              "    </tr>\n",
              "    <tr>\n",
              "      <th>1</th>\n",
              "      <td>Shanisignapur</td>\n",
              "      <td>AHMEDNAGAR</td>\n",
              "      <td>January</td>\n",
              "      <td>795211.0</td>\n",
              "      <td>796.0</td>\n",
              "      <td>796007.0</td>\n",
              "      <td>159201.4</td>\n",
              "      <td>358203.15</td>\n",
              "      <td>167161.47</td>\n",
              "      <td>103480.91</td>\n",
              "      <td>7960.07</td>\n",
              "      <td>4.263158</td>\n",
              "      <td>644765.67</td>\n",
              "      <td>151241.33</td>\n",
              "    </tr>\n",
              "    <tr>\n",
              "      <th>2</th>\n",
              "      <td>Siddhivinayak - Siddhatek</td>\n",
              "      <td>AHMEDNAGAR</td>\n",
              "      <td>January</td>\n",
              "      <td>24950.0</td>\n",
              "      <td>0.0</td>\n",
              "      <td>24950.0</td>\n",
              "      <td>4990.0</td>\n",
              "      <td>11227.50</td>\n",
              "      <td>5239.50</td>\n",
              "      <td>3243.50</td>\n",
              "      <td>249.50</td>\n",
              "      <td>4.263158</td>\n",
              "      <td>20209.50</td>\n",
              "      <td>4740.50</td>\n",
              "    </tr>\n",
              "    <tr>\n",
              "      <th>3</th>\n",
              "      <td>Ahmednagar fort</td>\n",
              "      <td>AHMEDNAGAR</td>\n",
              "      <td>January</td>\n",
              "      <td>254.0</td>\n",
              "      <td>0.0</td>\n",
              "      <td>254.0</td>\n",
              "      <td>50.8</td>\n",
              "      <td>114.30</td>\n",
              "      <td>53.34</td>\n",
              "      <td>33.02</td>\n",
              "      <td>2.54</td>\n",
              "      <td>4.263158</td>\n",
              "      <td>205.74</td>\n",
              "      <td>48.26</td>\n",
              "    </tr>\n",
              "    <tr>\n",
              "      <th>4</th>\n",
              "      <td>Newas</td>\n",
              "      <td>AHMEDNAGAR</td>\n",
              "      <td>January</td>\n",
              "      <td>186629.0</td>\n",
              "      <td>0.0</td>\n",
              "      <td>186629.0</td>\n",
              "      <td>37325.8</td>\n",
              "      <td>83983.05</td>\n",
              "      <td>39192.09</td>\n",
              "      <td>24261.77</td>\n",
              "      <td>1866.29</td>\n",
              "      <td>4.263158</td>\n",
              "      <td>151169.49</td>\n",
              "      <td>35459.51</td>\n",
              "    </tr>\n",
              "  </tbody>\n",
              "</table>\n",
              "</div>\n",
              "      <button class=\"colab-df-convert\" onclick=\"convertToInteractive('df-7c12e23f-78dc-454e-a907-acc842595955')\"\n",
              "              title=\"Convert this dataframe to an interactive table.\"\n",
              "              style=\"display:none;\">\n",
              "        \n",
              "  <svg xmlns=\"http://www.w3.org/2000/svg\" height=\"24px\"viewBox=\"0 0 24 24\"\n",
              "       width=\"24px\">\n",
              "    <path d=\"M0 0h24v24H0V0z\" fill=\"none\"/>\n",
              "    <path d=\"M18.56 5.44l.94 2.06.94-2.06 2.06-.94-2.06-.94-.94-2.06-.94 2.06-2.06.94zm-11 1L8.5 8.5l.94-2.06 2.06-.94-2.06-.94L8.5 2.5l-.94 2.06-2.06.94zm10 10l.94 2.06.94-2.06 2.06-.94-2.06-.94-.94-2.06-.94 2.06-2.06.94z\"/><path d=\"M17.41 7.96l-1.37-1.37c-.4-.4-.92-.59-1.43-.59-.52 0-1.04.2-1.43.59L10.3 9.45l-7.72 7.72c-.78.78-.78 2.05 0 2.83L4 21.41c.39.39.9.59 1.41.59.51 0 1.02-.2 1.41-.59l7.78-7.78 2.81-2.81c.8-.78.8-2.07 0-2.86zM5.41 20L4 18.59l7.72-7.72 1.47 1.35L5.41 20z\"/>\n",
              "  </svg>\n",
              "      </button>\n",
              "      \n",
              "  <style>\n",
              "    .colab-df-container {\n",
              "      display:flex;\n",
              "      flex-wrap:wrap;\n",
              "      gap: 12px;\n",
              "    }\n",
              "\n",
              "    .colab-df-convert {\n",
              "      background-color: #E8F0FE;\n",
              "      border: none;\n",
              "      border-radius: 50%;\n",
              "      cursor: pointer;\n",
              "      display: none;\n",
              "      fill: #1967D2;\n",
              "      height: 32px;\n",
              "      padding: 0 0 0 0;\n",
              "      width: 32px;\n",
              "    }\n",
              "\n",
              "    .colab-df-convert:hover {\n",
              "      background-color: #E2EBFA;\n",
              "      box-shadow: 0px 1px 2px rgba(60, 64, 67, 0.3), 0px 1px 3px 1px rgba(60, 64, 67, 0.15);\n",
              "      fill: #174EA6;\n",
              "    }\n",
              "\n",
              "    [theme=dark] .colab-df-convert {\n",
              "      background-color: #3B4455;\n",
              "      fill: #D2E3FC;\n",
              "    }\n",
              "\n",
              "    [theme=dark] .colab-df-convert:hover {\n",
              "      background-color: #434B5C;\n",
              "      box-shadow: 0px 1px 3px 1px rgba(0, 0, 0, 0.15);\n",
              "      filter: drop-shadow(0px 1px 2px rgba(0, 0, 0, 0.3));\n",
              "      fill: #FFFFFF;\n",
              "    }\n",
              "  </style>\n",
              "\n",
              "      <script>\n",
              "        const buttonEl =\n",
              "          document.querySelector('#df-7c12e23f-78dc-454e-a907-acc842595955 button.colab-df-convert');\n",
              "        buttonEl.style.display =\n",
              "          google.colab.kernel.accessAllowed ? 'block' : 'none';\n",
              "\n",
              "        async function convertToInteractive(key) {\n",
              "          const element = document.querySelector('#df-7c12e23f-78dc-454e-a907-acc842595955');\n",
              "          const dataTable =\n",
              "            await google.colab.kernel.invokeFunction('convertToInteractive',\n",
              "                                                     [key], {});\n",
              "          if (!dataTable) return;\n",
              "\n",
              "          const docLinkHtml = 'Like what you see? Visit the ' +\n",
              "            '<a target=\"_blank\" href=https://colab.research.google.com/notebooks/data_table.ipynb>data table notebook</a>'\n",
              "            + ' to learn more about interactive tables.';\n",
              "          element.innerHTML = '';\n",
              "          dataTable['output_type'] = 'display_data';\n",
              "          await google.colab.output.renderOutput(dataTable, element);\n",
              "          const docLink = document.createElement('div');\n",
              "          docLink.innerHTML = docLinkHtml;\n",
              "          element.appendChild(docLink);\n",
              "        }\n",
              "      </script>\n",
              "    </div>\n",
              "  </div>\n",
              "  "
            ]
          },
          "metadata": {},
          "execution_count": 138
        }
      ]
    },
    {
      "cell_type": "code",
      "source": [
        "# Adding the year information as an additional column\n",
        "\n",
        "tour_2011_df['Year'] = [2011] * len(tour_2011_df)\n",
        "tour_2012_df['Year'] = [2012] * len(tour_2012_df)\n",
        "tour_2013_df['Year'] = [2013] * len(tour_2013_df)\n",
        "tour_2014_df['Year'] = [2014] * len(tour_2014_df)"
      ],
      "metadata": {
        "id": "5NX2EE-Ai_Q3"
      },
      "execution_count": null,
      "outputs": []
    },
    {
      "cell_type": "code",
      "source": [
        "# Combining the DataFrames into one single DataFrame\n",
        "\n",
        "Mhrshtra_tourist_df = pd.concat([\n",
        "    tour_2011_df, tour_2012_df, \n",
        "    tour_2013_df, tour_2014_df\n",
        "    ])"
      ],
      "metadata": {
        "id": "gAiSE0O6kkYd"
      },
      "execution_count": null,
      "outputs": []
    },
    {
      "cell_type": "code",
      "source": [
        "# Printing the combined DataFrame\n",
        "\n",
        "Mhrshtra_tourist_df.tail()"
      ],
      "metadata": {
        "colab": {
          "base_uri": "https://localhost:8080/",
          "height": 302
        },
        "id": "1tvTOB91lANA",
        "outputId": "79084254-57f9-478e-bd2e-a5ca9e225bd5"
      },
      "execution_count": null,
      "outputs": [
        {
          "output_type": "execute_result",
          "data": {
            "text/plain": [
              "                                      Destination  District     Month  \\\n",
              "1183                                   Vasai Fort     THANE  December   \n",
              "1184                                    Ambarnath     THANE  December   \n",
              "1185                                     SEVAGRAM    WARDHA  December   \n",
              "1186  Shirpur ( Parshwanath Digamber Jain Mandir)    WASHIM  December   \n",
              "1187                   Kalamb Tipeshwar\\nSanctury  YAVATMAL  December   \n",
              "\n",
              "      Domestic Visits  Foreign Visits  Total Visits  Age: 15-24 yrs     \\\n",
              "1183     26001.934384       22.535016  26024.469400        7807.340820   \n",
              "1184     52085.957848        8.212006  52094.169854       15628.250956   \n",
              "1185     13309.121872      150.029744  13459.151616        2557.238807   \n",
              "1186      1618.788908       10.263112   1629.052020         309.519884   \n",
              "1187     26964.732448        6.100400  26970.832848        5124.458241   \n",
              "\n",
              "      Age: 25-34 yrs  Age: 35-44 yrs  Age: 45-60 yrs  Age:  > 60 yrs  \\\n",
              "1183     9108.564290     5204.893880     3643.425716      260.244694   \n",
              "1184    18232.959449    10418.833971     7293.183780      520.941699   \n",
              "1185     5922.026711     2961.013356     1615.098194      403.774548   \n",
              "1186      716.782889      358.391444      195.486242       48.871561   \n",
              "1187    11867.166453     5933.583227     3236.499942      809.124985   \n",
              "\n",
              "      Male:Female  Purpose: Leisure  Purpose: Non-Leisure  Year  \n",
              "1183     2.333333      20819.575520           5204.893880  2014  \n",
              "1184     2.333333      41675.335883          10418.833971  2014  \n",
              "1185     4.000000       4037.745485           9421.406131  2014  \n",
              "1186     4.000000        488.715606           1140.336414  2014  \n",
              "1187     4.000000       9439.791497          17531.041351  2014  "
            ],
            "text/html": [
              "\n",
              "  <div id=\"df-e58bd043-c076-45c4-9c23-246862584cf3\">\n",
              "    <div class=\"colab-df-container\">\n",
              "      <div>\n",
              "<style scoped>\n",
              "    .dataframe tbody tr th:only-of-type {\n",
              "        vertical-align: middle;\n",
              "    }\n",
              "\n",
              "    .dataframe tbody tr th {\n",
              "        vertical-align: top;\n",
              "    }\n",
              "\n",
              "    .dataframe thead th {\n",
              "        text-align: right;\n",
              "    }\n",
              "</style>\n",
              "<table border=\"1\" class=\"dataframe\">\n",
              "  <thead>\n",
              "    <tr style=\"text-align: right;\">\n",
              "      <th></th>\n",
              "      <th>Destination</th>\n",
              "      <th>District</th>\n",
              "      <th>Month</th>\n",
              "      <th>Domestic Visits</th>\n",
              "      <th>Foreign Visits</th>\n",
              "      <th>Total Visits</th>\n",
              "      <th>Age: 15-24 yrs</th>\n",
              "      <th>Age: 25-34 yrs</th>\n",
              "      <th>Age: 35-44 yrs</th>\n",
              "      <th>Age: 45-60 yrs</th>\n",
              "      <th>Age:  &gt; 60 yrs</th>\n",
              "      <th>Male:Female</th>\n",
              "      <th>Purpose: Leisure</th>\n",
              "      <th>Purpose: Non-Leisure</th>\n",
              "      <th>Year</th>\n",
              "    </tr>\n",
              "  </thead>\n",
              "  <tbody>\n",
              "    <tr>\n",
              "      <th>1183</th>\n",
              "      <td>Vasai Fort</td>\n",
              "      <td>THANE</td>\n",
              "      <td>December</td>\n",
              "      <td>26001.934384</td>\n",
              "      <td>22.535016</td>\n",
              "      <td>26024.469400</td>\n",
              "      <td>7807.340820</td>\n",
              "      <td>9108.564290</td>\n",
              "      <td>5204.893880</td>\n",
              "      <td>3643.425716</td>\n",
              "      <td>260.244694</td>\n",
              "      <td>2.333333</td>\n",
              "      <td>20819.575520</td>\n",
              "      <td>5204.893880</td>\n",
              "      <td>2014</td>\n",
              "    </tr>\n",
              "    <tr>\n",
              "      <th>1184</th>\n",
              "      <td>Ambarnath</td>\n",
              "      <td>THANE</td>\n",
              "      <td>December</td>\n",
              "      <td>52085.957848</td>\n",
              "      <td>8.212006</td>\n",
              "      <td>52094.169854</td>\n",
              "      <td>15628.250956</td>\n",
              "      <td>18232.959449</td>\n",
              "      <td>10418.833971</td>\n",
              "      <td>7293.183780</td>\n",
              "      <td>520.941699</td>\n",
              "      <td>2.333333</td>\n",
              "      <td>41675.335883</td>\n",
              "      <td>10418.833971</td>\n",
              "      <td>2014</td>\n",
              "    </tr>\n",
              "    <tr>\n",
              "      <th>1185</th>\n",
              "      <td>SEVAGRAM</td>\n",
              "      <td>WARDHA</td>\n",
              "      <td>December</td>\n",
              "      <td>13309.121872</td>\n",
              "      <td>150.029744</td>\n",
              "      <td>13459.151616</td>\n",
              "      <td>2557.238807</td>\n",
              "      <td>5922.026711</td>\n",
              "      <td>2961.013356</td>\n",
              "      <td>1615.098194</td>\n",
              "      <td>403.774548</td>\n",
              "      <td>4.000000</td>\n",
              "      <td>4037.745485</td>\n",
              "      <td>9421.406131</td>\n",
              "      <td>2014</td>\n",
              "    </tr>\n",
              "    <tr>\n",
              "      <th>1186</th>\n",
              "      <td>Shirpur ( Parshwanath Digamber Jain Mandir)</td>\n",
              "      <td>WASHIM</td>\n",
              "      <td>December</td>\n",
              "      <td>1618.788908</td>\n",
              "      <td>10.263112</td>\n",
              "      <td>1629.052020</td>\n",
              "      <td>309.519884</td>\n",
              "      <td>716.782889</td>\n",
              "      <td>358.391444</td>\n",
              "      <td>195.486242</td>\n",
              "      <td>48.871561</td>\n",
              "      <td>4.000000</td>\n",
              "      <td>488.715606</td>\n",
              "      <td>1140.336414</td>\n",
              "      <td>2014</td>\n",
              "    </tr>\n",
              "    <tr>\n",
              "      <th>1187</th>\n",
              "      <td>Kalamb Tipeshwar\\nSanctury</td>\n",
              "      <td>YAVATMAL</td>\n",
              "      <td>December</td>\n",
              "      <td>26964.732448</td>\n",
              "      <td>6.100400</td>\n",
              "      <td>26970.832848</td>\n",
              "      <td>5124.458241</td>\n",
              "      <td>11867.166453</td>\n",
              "      <td>5933.583227</td>\n",
              "      <td>3236.499942</td>\n",
              "      <td>809.124985</td>\n",
              "      <td>4.000000</td>\n",
              "      <td>9439.791497</td>\n",
              "      <td>17531.041351</td>\n",
              "      <td>2014</td>\n",
              "    </tr>\n",
              "  </tbody>\n",
              "</table>\n",
              "</div>\n",
              "      <button class=\"colab-df-convert\" onclick=\"convertToInteractive('df-e58bd043-c076-45c4-9c23-246862584cf3')\"\n",
              "              title=\"Convert this dataframe to an interactive table.\"\n",
              "              style=\"display:none;\">\n",
              "        \n",
              "  <svg xmlns=\"http://www.w3.org/2000/svg\" height=\"24px\"viewBox=\"0 0 24 24\"\n",
              "       width=\"24px\">\n",
              "    <path d=\"M0 0h24v24H0V0z\" fill=\"none\"/>\n",
              "    <path d=\"M18.56 5.44l.94 2.06.94-2.06 2.06-.94-2.06-.94-.94-2.06-.94 2.06-2.06.94zm-11 1L8.5 8.5l.94-2.06 2.06-.94-2.06-.94L8.5 2.5l-.94 2.06-2.06.94zm10 10l.94 2.06.94-2.06 2.06-.94-2.06-.94-.94-2.06-.94 2.06-2.06.94z\"/><path d=\"M17.41 7.96l-1.37-1.37c-.4-.4-.92-.59-1.43-.59-.52 0-1.04.2-1.43.59L10.3 9.45l-7.72 7.72c-.78.78-.78 2.05 0 2.83L4 21.41c.39.39.9.59 1.41.59.51 0 1.02-.2 1.41-.59l7.78-7.78 2.81-2.81c.8-.78.8-2.07 0-2.86zM5.41 20L4 18.59l7.72-7.72 1.47 1.35L5.41 20z\"/>\n",
              "  </svg>\n",
              "      </button>\n",
              "      \n",
              "  <style>\n",
              "    .colab-df-container {\n",
              "      display:flex;\n",
              "      flex-wrap:wrap;\n",
              "      gap: 12px;\n",
              "    }\n",
              "\n",
              "    .colab-df-convert {\n",
              "      background-color: #E8F0FE;\n",
              "      border: none;\n",
              "      border-radius: 50%;\n",
              "      cursor: pointer;\n",
              "      display: none;\n",
              "      fill: #1967D2;\n",
              "      height: 32px;\n",
              "      padding: 0 0 0 0;\n",
              "      width: 32px;\n",
              "    }\n",
              "\n",
              "    .colab-df-convert:hover {\n",
              "      background-color: #E2EBFA;\n",
              "      box-shadow: 0px 1px 2px rgba(60, 64, 67, 0.3), 0px 1px 3px 1px rgba(60, 64, 67, 0.15);\n",
              "      fill: #174EA6;\n",
              "    }\n",
              "\n",
              "    [theme=dark] .colab-df-convert {\n",
              "      background-color: #3B4455;\n",
              "      fill: #D2E3FC;\n",
              "    }\n",
              "\n",
              "    [theme=dark] .colab-df-convert:hover {\n",
              "      background-color: #434B5C;\n",
              "      box-shadow: 0px 1px 3px 1px rgba(0, 0, 0, 0.15);\n",
              "      filter: drop-shadow(0px 1px 2px rgba(0, 0, 0, 0.3));\n",
              "      fill: #FFFFFF;\n",
              "    }\n",
              "  </style>\n",
              "\n",
              "      <script>\n",
              "        const buttonEl =\n",
              "          document.querySelector('#df-e58bd043-c076-45c4-9c23-246862584cf3 button.colab-df-convert');\n",
              "        buttonEl.style.display =\n",
              "          google.colab.kernel.accessAllowed ? 'block' : 'none';\n",
              "\n",
              "        async function convertToInteractive(key) {\n",
              "          const element = document.querySelector('#df-e58bd043-c076-45c4-9c23-246862584cf3');\n",
              "          const dataTable =\n",
              "            await google.colab.kernel.invokeFunction('convertToInteractive',\n",
              "                                                     [key], {});\n",
              "          if (!dataTable) return;\n",
              "\n",
              "          const docLinkHtml = 'Like what you see? Visit the ' +\n",
              "            '<a target=\"_blank\" href=https://colab.research.google.com/notebooks/data_table.ipynb>data table notebook</a>'\n",
              "            + ' to learn more about interactive tables.';\n",
              "          element.innerHTML = '';\n",
              "          dataTable['output_type'] = 'display_data';\n",
              "          await google.colab.output.renderOutput(dataTable, element);\n",
              "          const docLink = document.createElement('div');\n",
              "          docLink.innerHTML = docLinkHtml;\n",
              "          element.appendChild(docLink);\n",
              "        }\n",
              "      </script>\n",
              "    </div>\n",
              "  </div>\n",
              "  "
            ]
          },
          "metadata": {},
          "execution_count": 141
        }
      ]
    },
    {
      "cell_type": "code",
      "source": [
        "# Printing Basic Info. about the dataset\n",
        "\n",
        "Mhrshtra_tourist_df.info()"
      ],
      "metadata": {
        "colab": {
          "base_uri": "https://localhost:8080/"
        },
        "id": "u8IugHBura8q",
        "outputId": "543ebd09-ab58-4789-871a-f1f11c12034a"
      },
      "execution_count": null,
      "outputs": [
        {
          "output_type": "stream",
          "name": "stdout",
          "text": [
            "<class 'pandas.core.frame.DataFrame'>\n",
            "Int64Index: 4752 entries, 0 to 1187\n",
            "Data columns (total 15 columns):\n",
            " #   Column                Non-Null Count  Dtype  \n",
            "---  ------                --------------  -----  \n",
            " 0   Destination           4752 non-null   object \n",
            " 1   District              4752 non-null   object \n",
            " 2   Month                 4752 non-null   object \n",
            " 3   Domestic Visits       4737 non-null   float64\n",
            " 4   Foreign Visits        4737 non-null   float64\n",
            " 5   Total Visits          4737 non-null   float64\n",
            " 6   Age: 15-24 yrs        4752 non-null   float64\n",
            " 7   Age: 25-34 yrs        4752 non-null   float64\n",
            " 8   Age: 35-44 yrs        4752 non-null   float64\n",
            " 9   Age: 45-60 yrs        4752 non-null   float64\n",
            " 10  Age:  > 60 yrs        4752 non-null   float64\n",
            " 11  Male:Female           4752 non-null   float64\n",
            " 12  Purpose: Leisure      4752 non-null   float64\n",
            " 13  Purpose: Non-Leisure  4752 non-null   float64\n",
            " 14  Year                  4752 non-null   int64  \n",
            "dtypes: float64(11), int64(1), object(3)\n",
            "memory usage: 594.0+ KB\n"
          ]
        }
      ]
    },
    {
      "cell_type": "markdown",
      "source": [
        "## EDA"
      ],
      "metadata": {
        "id": "NekqFuz_ualu"
      }
    },
    {
      "cell_type": "code",
      "source": [
        "# Checking for Null/NaN/Missing values\n",
        "\n",
        "Mhrshtra_tourist_df.isnull().sum()"
      ],
      "metadata": {
        "colab": {
          "base_uri": "https://localhost:8080/"
        },
        "id": "wLXPdUsvqOw0",
        "outputId": "010dfa0d-4e60-44c7-dc4f-991fc14a43b4"
      },
      "execution_count": null,
      "outputs": [
        {
          "output_type": "execute_result",
          "data": {
            "text/plain": [
              "Destination              0\n",
              "District                 0\n",
              "Month                    0\n",
              "Domestic Visits         15\n",
              "Foreign Visits          15\n",
              "Total Visits            15\n",
              "Age: 15-24 yrs           0\n",
              "Age: 25-34 yrs           0\n",
              "Age: 35-44 yrs           0\n",
              "Age: 45-60 yrs           0\n",
              "Age:  > 60 yrs           0\n",
              "Male:Female              0\n",
              "Purpose: Leisure         0\n",
              "Purpose: Non-Leisure     0\n",
              "Year                     0\n",
              "dtype: int64"
            ]
          },
          "metadata": {},
          "execution_count": 143
        }
      ]
    },
    {
      "cell_type": "code",
      "source": [
        "# Replacing Null/NaN/Missing Values with the Avg. value\n",
        "# The missing values in a specific column are replaced by the mean values of that column\n",
        "\n",
        "Mhrshtra_tourist_df['Domestic Visits'].fillna(\n",
        "    Mhrshtra_tourist_df['Domestic Visits'].mean(), inplace=True\n",
        ")\n",
        "\n",
        "Mhrshtra_tourist_df['Foreign Visits'].fillna(\n",
        "    Mhrshtra_tourist_df['Foreign Visits'].mean(), inplace=True\n",
        ")\n",
        "\n",
        "Mhrshtra_tourist_df['Total Visits'].fillna(\n",
        "    Mhrshtra_tourist_df['Total Visits'].mean(), inplace=True\n",
        ")"
      ],
      "metadata": {
        "id": "xNklcT2orz2F"
      },
      "execution_count": null,
      "outputs": []
    },
    {
      "cell_type": "code",
      "source": [
        "# Converting Required Columns to integers\n",
        "\n",
        "Mhrshtra_tourist_df = Mhrshtra_tourist_df.astype(\n",
        "    {\n",
        "     'Domestic Visits' : 'int',\n",
        "     'Foreign Visits' : 'int',\n",
        "     'Total Visits' : 'int',\n",
        "     'Age: 15-24 yrs   ' : 'int',\n",
        "     'Age: 25-34 yrs' : 'int',\n",
        "     'Age: 35-44 yrs' : 'int',\n",
        "     'Age: 45-60 yrs' : 'int',\n",
        "     'Age:  > 60 yrs' : 'int',\n",
        "     'Purpose: Leisure' : 'int',\n",
        "     'Purpose: Non-Leisure' : 'int'\n",
        "    }\n",
        ")"
      ],
      "metadata": {
        "id": "cDeKx9tLmBhx"
      },
      "execution_count": null,
      "outputs": []
    },
    {
      "cell_type": "markdown",
      "source": [
        "### Connecting to Sqlite3 Database"
      ],
      "metadata": {
        "id": "k9LZkR2KxGMv"
      }
    },
    {
      "cell_type": "code",
      "source": [
        "# Creating the DataBase\n",
        "\n",
        "conn = sqlite3.connect('Mhrshtra_tourist_db')\n",
        "c = conn.cursor()\n",
        "\n",
        "# Writing Pandas DataFrame to Sqlite3 DB\n",
        "\n",
        "Mhrshtra_tourist_df.columns = Mhrshtra_tourist_df.columns.to_flat_index()\n",
        "Mhrshtra_tourist_df.to_sql('tourists', conn, if_exists='replace', index=False)\n",
        "\n",
        "conn.commit()"
      ],
      "metadata": {
        "id": "oB4bS4MDxJaQ"
      },
      "execution_count": null,
      "outputs": []
    },
    {
      "cell_type": "code",
      "source": [
        "# Running a sample Query to check the connection\n",
        "\n",
        "query = \"\"\"\n",
        "    SELECT Destination, Month, \"Domestic Visits\" \\\n",
        "    FROM tourists \\\n",
        "    WHERE District=\"AHMEDNAGAR\" AND \"Total Visits\" < 20000 AND Year=2014\n",
        "    GROUP BY Month\n",
        "\"\"\"\n",
        "c.execute(query)\n",
        "for row in c.fetchall():\n",
        "    print(row)"
      ],
      "metadata": {
        "colab": {
          "base_uri": "https://localhost:8080/"
        },
        "id": "N-qH1qj1zOvk",
        "outputId": "4388931d-2449-4e68-f4b0-9eeb0a179878"
      },
      "execution_count": null,
      "outputs": [
        {
          "output_type": "stream",
          "name": "stdout",
          "text": [
            "('Ahmednagar fort', 'December', 291)\n",
            "('Ahmednagar fort', 'February', 277)\n",
            "('Ahmednagar fort', 'January', 276)\n",
            "('Ahmednagar fort', 'March', 269)\n",
            "('Ahmednagar fort', 'November', 286)\n",
            "('Ahmednagar fort', 'October', 285)\n"
          ]
        }
      ]
    },
    {
      "cell_type": "markdown",
      "source": [
        "## Data Visualizations"
      ],
      "metadata": {
        "id": "RXm8CWKA7s9v"
      }
    },
    {
      "cell_type": "markdown",
      "source": [
        "#### After converting the entire dataset from a Pandas Dataframe to a proper SQLite3 database, we can obtain any required results by querying the database. A common pattern can be observed for all the data visualizations below, where the appropriate query is created, executed, and the result is captured before generating the necessary plots to visualize it. Below are a few common queries and their corresponding visualizations."
      ],
      "metadata": {
        "id": "HzbPHHmOgDAp"
      }
    },
    {
      "cell_type": "markdown",
      "source": [
        "### 1. Year-Wise Distribution of Domestic and Foreign Tourist"
      ],
      "metadata": {
        "id": "Inbl0crJ79if"
      }
    },
    {
      "cell_type": "code",
      "source": [
        "query = \"\"\"\n",
        "    SELECT sum(\"Domestic Visits\"), sum(\"Foreign Visits\"), sum(\"Total Visits\"), Year \\\n",
        "    FROM tourists \\\n",
        "    GROUP BY Year\n",
        "\"\"\"\n",
        "c.execute(query)\n",
        "out = c.fetchall()\n",
        "for row in out:\n",
        "    print(row)"
      ],
      "metadata": {
        "colab": {
          "base_uri": "https://localhost:8080/"
        },
        "id": "vxsVabn76YQ2",
        "outputId": "365c4878-3f4e-4546-bfec-e70c1452946d"
      },
      "execution_count": null,
      "outputs": [
        {
          "output_type": "stream",
          "name": "stdout",
          "text": [
            "(66638051, 3033476, 69671525, 2011)\n",
            "(67698473, 3040688, 70739348, 2012)\n",
            "(68739724, 3098184, 71838165, 2013)\n",
            "(69796782, 3159464, 72956564, 2014)\n"
          ]
        }
      ]
    },
    {
      "cell_type": "code",
      "source": [
        "labels = ['Domestic Visits', 'Foreign Visits']\n",
        "Sizes_2011 = out[0][:2]\n",
        "Sizes_2012 = out[0][:2]\n",
        "Sizes_2013 = out[0][:2]\n",
        "Sizes_2014 = out[0][:2]"
      ],
      "metadata": {
        "id": "U3Bty4YD9MN3"
      },
      "execution_count": null,
      "outputs": []
    },
    {
      "cell_type": "code",
      "source": [
        "fig, ax = plt.subplots(1,4, figsize=(20,20))\n",
        "colors = ['#8B0000', '#FFA500']\n",
        "ax[0].pie(Sizes_2011, explode=(0, 0.1), labels=labels, autopct='%1.1f%%', colors=colors)\n",
        "ax[0].set_title(\"Year 2011\", fontsize=14)\n",
        "\n",
        "ax[1].pie(Sizes_2012, explode=(0, 0.1), labels=labels, autopct='%1.1f%%', colors=colors)\n",
        "ax[1].set_title(\"Year 2012\", fontsize=14)\n",
        "\n",
        "ax[2].pie(Sizes_2013, explode=(0, 0.1), labels=labels, autopct='%1.1f%%', colors=colors)\n",
        "ax[2].set_title(\"Year 2013\", fontsize=14)\n",
        "\n",
        "ax[3].pie(Sizes_2014, explode=(0, 0.1), labels=labels, autopct='%1.1f%%', colors=colors)\n",
        "ax[3].set_title(\"Year 2014\", fontsize=14)\n",
        "plt.show()"
      ],
      "metadata": {
        "colab": {
          "base_uri": "https://localhost:8080/",
          "height": 291
        },
        "id": "SJaG1PZ2_kZA",
        "outputId": "0fc1e2fe-8b1e-42cc-aaa7-8a8bbb394b29"
      },
      "execution_count": null,
      "outputs": [
        {
          "output_type": "display_data",
          "data": {
            "text/plain": [
              "<Figure size 1440x1440 with 4 Axes>"
            ],
            "image/png": "[encoded data removed]"
          },
          "metadata": {}
        }
      ]
    },
    {
      "cell_type": "markdown",
      "source": [
        "##### To create a visualization, the necessary data is typically obtained using an SQL query. The initial visualization we have constructed displays the year-wise percentage of domestic and foreign visitors in Maharashtra based on the available data."
      ],
      "metadata": {
        "id": "EuIfxaj1KWMr"
      }
    },
    {
      "cell_type": "markdown",
      "source": [
        "### 2. Month-Wise Distribution of Domestic and Foreign Tourist For the Year 2011"
      ],
      "metadata": {
        "id": "_llGLQjdEGdD"
      }
    },
    {
      "cell_type": "code",
      "source": [
        "query = \"\"\"\n",
        "    SELECT sum(\"Domestic Visits\"), sum(\"Foreign Visits\") \\\n",
        "    FROM tourists \\\n",
        "    WHERE Year=2011\n",
        "    GROUP BY Month\n",
        "\"\"\"\n",
        "c.execute(query)\n",
        "out = c.fetchall()\n",
        "for row in out:\n",
        "    print(row)"
      ],
      "metadata": {
        "colab": {
          "base_uri": "https://localhost:8080/"
        },
        "id": "hhqLMHFDAmoH",
        "outputId": "d2fc532a-2896-4291-f599-d95c5b6baca2"
      },
      "execution_count": null,
      "outputs": [
        {
          "output_type": "stream",
          "name": "stdout",
          "text": [
            "(11467368, 530501)\n",
            "(11995244, 488683)\n",
            "(12274067, 509009)\n",
            "(12050822, 495726)\n",
            "(9608565, 527590)\n",
            "(9241985, 481967)\n"
          ]
        }
      ]
    },
    {
      "cell_type": "code",
      "source": [
        "import numpy as np\n",
        "import seaborn as sns\n",
        "import matplotlib.pyplot as plt\n",
        "colors = [\n",
        "    ['#8B5742', '#FFA07A'],   \n",
        "    ['#8F9779', '#B8860B'],   \n",
        "    ['#8B7D6B', '#BC8F8F'],   \n",
        "    ['#8B0000', '#FFA500'],   \n",
        "    ['#8B4513', '#D2691E'],   \n",
        "    ['#8B2323', '#FF7F50']    \n",
        "]\n",
        "labels = ['Domestic Visits', 'Foreign Visits']\n",
        "titles = ['January', 'February', 'March', 'October', 'November', 'December']\n",
        "\n",
        "fig, ax = plt.subplots(2,3, figsize=(20,14))\n",
        "ctr = 0\n",
        "for i in range(2):\n",
        "    for j in range(3):\n",
        "        ax[i][j].pie(out[ctr], explode=(0, 0.2), labels=labels, \n",
        "                     autopct='%1.1f%%', pctdistance=1.2, labeldistance=.3,\n",
        "                     colors=colors[ctr])\n",
        "        ax[i][j].set_title(titles[ctr]+' 2011', fontsize=14)\n",
        "        ctr +=1\n",
        "print()"
      ],
      "metadata": {
        "colab": {
          "base_uri": "https://localhost:8080/",
          "height": 808
        },
        "id": "WpYibXNkEUvD",
        "outputId": "c8187cac-9588-4ea0-a7ea-cd888c05b0b6"
      },
      "execution_count": null,
      "outputs": [
        {
          "output_type": "stream",
          "name": "stdout",
          "text": [
            "\n"
          ]
        },
        {
          "output_type": "display_data",
          "data": {
            "text/plain": [
              "<Figure size 1440x1008 with 6 Axes>"
            ],
            "image/png": "[encoded data removed]"
          },
          "metadata": {}
        }
      ]
    },
    {
      "cell_type": "markdown",
      "source": [
        "##### The data presented above displays the monthly distribution of domestic and foreign tourist arrivals in Maharashtra, based on the available data. By examining the pie charts above, it can be observed that the highest number of foreign tourists arrived during the months of November and December in the year 2011."
      ],
      "metadata": {
        "id": "mNn9JUOoJaSW"
      }
    },
    {
      "cell_type": "markdown",
      "source": [
        "### 3. Top 5 Places with Most Domestic Tourist Arrivals"
      ],
      "metadata": {
        "id": "zpNLLjyFLc5D"
      }
    },
    {
      "cell_type": "code",
      "source": [
        "query = \"\"\"\n",
        "    SELECT Destination, \"Domestic Visits\"\n",
        "    FROM tourists\n",
        "    WHERE Year = 2011\n",
        "    GROUP BY Destination\n",
        "    ORDER BY \"Domestic Visits\" DESC\n",
        "    LIMIT 5\n",
        "\"\"\"\n",
        "c.execute(query)\n",
        "out = c.fetchall()\n",
        "for row in out:\n",
        "    print(row)"
      ],
      "metadata": {
        "colab": {
          "base_uri": "https://localhost:8080/"
        },
        "id": "tyWCBZZdJald",
        "outputId": "618df029-3ff3-46dd-eb6c-89d7b3980271"
      },
      "execution_count": null,
      "outputs": [
        {
          "output_type": "stream",
          "name": "stdout",
          "text": [
            "('Shirdi', 1274940)\n",
            "('Shanisignapur', 795211)\n",
            "('Gateway of India', 729758)\n",
            "('Sidhivinayak', 681214)\n",
            "('Haji Ali', 556336)\n"
          ]
        }
      ]
    },
    {
      "cell_type": "code",
      "source": [
        "y2k11_top_5_labels = [entry[0] for entry in out]\n",
        "y2k11_top_5_values = [entry[1] for entry in out]"
      ],
      "metadata": {
        "id": "zowgSeylQRT5"
      },
      "execution_count": null,
      "outputs": []
    },
    {
      "cell_type": "code",
      "source": [
        "plt.figure(figsize=(10, 5))\n",
        "plt.fill_between(range(5), y2k11_top_5_values, color='#8B4513', alpha=0.2)\n",
        "plt.plot(range(5), y2k11_top_5_values, color='#8B4513', alpha=0.6)\n",
        "plt.xticks(range(5), y2k11_top_5_labels)\n",
        "plt.title(\"Top 5 places with most domestic tourists in Maharashtra\")\n",
        "plt.ylabel(\"Number of Visitors\")\n",
        "plt.ticklabel_format(axis='y', style='plain')\n",
        "plt.show()\n"
      ],
      "metadata": {
        "colab": {
          "base_uri": "https://localhost:8080/"
        },
        "id": "xFL59LmTQy4-",
        "outputId": "df8bbed1-1365-4448-cae9-28423518fd40"
      },
      "execution_count": null,
      "outputs": [
        {
          "output_type": "display_data",
          "data": {
            "text/plain": [
              "<Figure size 720x360 with 1 Axes>"
            ],
            "image/png": "[encoded data removed]"
          },
          "metadata": {
            "needs_background": "light"
          }
        }
      ]
    },
    {
      "cell_type": "markdown",
      "source": [
        "##### While the plot may be labeled as the Top 5 most visited places in Maharashtra for the year 2011, the same trend can be observed across different years. Even if the year is changed to 2012, 2013, or 2014, the relative positions of the top five most visited places may shift based on the number of tourist arrivals, but the overall trend will likely remain the same."
      ],
      "metadata": {
        "id": "pyW-3Kb8ShuH"
      }
    },
    {
      "cell_type": "markdown",
      "source": [
        "### 4. Top 5 Places with Most Foreign Tourist Arrivals"
      ],
      "metadata": {
        "id": "g5o2mtMCUT1T"
      }
    },
    {
      "cell_type": "code",
      "source": [
        "query = \"\"\"\n",
        "    SELECT Destination, \"Foreign Visits\"\n",
        "    FROM tourists\n",
        "    WHERE Year = 2011\n",
        "    GROUP BY Destination\n",
        "    ORDER BY \"Foreign Visits\" DESC\n",
        "    LIMIT 5\n",
        "\"\"\"\n",
        "c.execute(query)\n",
        "out = c.fetchall()\n",
        "for row in out:\n",
        "    print(row)"
      ],
      "metadata": {
        "colab": {
          "base_uri": "https://localhost:8080/"
        },
        "id": "lWPsu6QDTD-h",
        "outputId": "7c54dddf-bd11-4e25-e529-11d82ed15306"
      },
      "execution_count": null,
      "outputs": [
        {
          "output_type": "stream",
          "name": "stdout",
          "text": [
            "('Sidhivinayak', 130722)\n",
            "('Haji Ali', 105969)\n",
            "('Gateway of India', 99513)\n",
            "('Elephanta caves', 45595)\n",
            "('Mahalaxmi temple', 34775)\n"
          ]
        }
      ]
    },
    {
      "cell_type": "code",
      "source": [
        "y2k11_top_5_labels = [entry[0] for entry in out]\n",
        "y2k11_top_5_values = [entry[1] for entry in out]"
      ],
      "metadata": {
        "id": "WmyPGyn_TsyK"
      },
      "execution_count": null,
      "outputs": []
    },
    {
      "cell_type": "code",
      "source": [
        "import plotly.express as px\n",
        "import pandas as pd\n",
        "\n",
        "# Define the data\n",
        "y2k11_top_5_labels = ['Mumbai', 'Pune', 'Nashik', 'Aurangabad', 'Nagpur']\n",
        "y2k11_top_5_values = [5748019, 2553985, 1458837, 955301, 747327]\n",
        "data = pd.DataFrame({'labels': y2k11_top_5_labels, 'values': y2k11_top_5_values})\n",
        "\n",
        "# Create the treemap\n",
        "fig = px.treemap(data, path=['labels'], values='values',\n",
        "                 color='values', color_continuous_scale='Oranges',\n",
        "                 hover_name='labels', hover_data=['values'])\n",
        "\n",
        "# Add a title and subtitle\n",
        "fig.update_layout(\n",
        "    title={'text': \"Top 5 Places with the Most Foreign Tourists in Maharashtra\",\n",
        "           'y': 0.95,\n",
        "           'x': 0.5,\n",
        "           'xanchor': 'center',\n",
        "           'yanchor': 'top'},\n",
        "    font=dict(size=16),\n",
        "    margin=dict(l=10, r=10, t=80, b=10),\n",
        "    annotations=[dict(\n",
        "        x=0.5,\n",
        "        y=0.95,\n",
        "        xref='paper',\n",
        "        yref='paper',\n",
        "        showarrow=False,\n",
        "        font=dict(size=12),\n",
        "    )]\n",
        ")\n",
        "\n",
        "fig.show()"
      ],
      "metadata": {
        "colab": {
          "base_uri": "https://localhost:8080/",
          "height": 611
        },
        "id": "Uo0ZGk7TTwgP",
        "outputId": "fd182eaa-eb05-49ca-b13b-48bb859c2901"
      },
      "execution_count": null,
      "outputs": [
        {
          "output_type": "stream",
          "name": "stderr",
          "text": [
            "/usr/local/lib/python3.9/dist-packages/plotly/express/_core.py:1637: FutureWarning:\n",
            "\n",
            "The frame.append method is deprecated and will be removed from pandas in a future version. Use pandas.concat instead.\n",
            "\n"
          ]
        },
        {
          "output_type": "display_data",
          "data": {
            "text/html": [
              "<html>\n",
              "<head><meta charset=\"utf-8\" /></head>\n",
              "<body>\n",
              "    <div>            <script src=\"https://cdnjs.cloudflare.com/ajax/libs/mathjax/2.7.5/MathJax.js?config=TeX-AMS-MML_SVG\"></script><script type=\"text/javascript\">if (window.MathJax) {MathJax.Hub.Config({SVG: {font: \"STIX-Web\"}});}</script>                <script type=\"text/javascript\">window.PlotlyConfig = {MathJaxConfig: 'local'};</script>\n",
              "        <script src=\"https://cdn.plot.ly/plotly-2.8.3.min.js\"></script>                <div id=\"814a0943-b68f-4382-8d17-6d879151afe1\" class=\"plotly-graph-div\" style=\"height:525px; width:100%;\"></div>            <script type=\"text/javascript\">                                    window.PLOTLYENV=window.PLOTLYENV || {};                                    if (document.getElementById(\"814a0943-b68f-4382-8d17-6d879151afe1\")) {                    Plotly.newPlot(                        \"814a0943-b68f-4382-8d17-6d879151afe1\",                        [{\"branchvalues\":\"total\",\"customdata\":[[955301.0,955301.0],[5748019.0,5748019.0],[747327.0,747327.0],[1458837.0,1458837.0],[2553985.0,2553985.0]],\"domain\":{\"x\":[0.0,1.0],\"y\":[0.0,1.0]},\"hovertemplate\":\"<b>%{hovertext}</b><br><br>labels=%{label}<br>values_sum=%{value}<br>parent=%{parent}<br>id=%{id}<br>values=%{color}<extra></extra>\",\"hovertext\":[\"Aurangabad\",\"Mumbai\",\"Nagpur\",\"Nashik\",\"Pune\"],\"ids\":[\"Aurangabad\",\"Mumbai\",\"Nagpur\",\"Nashik\",\"Pune\"],\"labels\":[\"Aurangabad\",\"Mumbai\",\"Nagpur\",\"Nashik\",\"Pune\"],\"marker\":{\"coloraxis\":\"coloraxis\",\"colors\":[955301.0,5748019.0,747327.0,1458837.0,2553985.0]},\"name\":\"\",\"parents\":[\"\",\"\",\"\",\"\",\"\"],\"values\":[955301,5748019,747327,1458837,2553985],\"type\":\"treemap\"}],                        {\"template\":{\"data\":{\"bar\":[{\"error_x\":{\"color\":\"#2a3f5f\"},\"error_y\":{\"color\":\"#2a3f5f\"},\"marker\":{\"line\":{\"color\":\"#E5ECF6\",\"width\":0.5},\"pattern\":{\"fillmode\":\"overlay\",\"size\":10,\"solidity\":0.2}},\"type\":\"bar\"}],\"barpolar\":[{\"marker\":{\"line\":{\"color\":\"#E5ECF6\",\"width\":0.5},\"pattern\":{\"fillmode\":\"overlay\",\"size\":10,\"solidity\":0.2}},\"type\":\"barpolar\"}],\"carpet\":[{\"aaxis\":{\"endlinecolor\":\"#2a3f5f\",\"gridcolor\":\"white\",\"linecolor\":\"white\",\"minorgridcolor\":\"white\",\"startlinecolor\":\"#2a3f5f\"},\"baxis\":{\"endlinecolor\":\"#2a3f5f\",\"gridcolor\":\"white\",\"linecolor\":\"white\",\"minorgridcolor\":\"white\",\"startlinecolor\":\"#2a3f5f\"},\"type\":\"carpet\"}],\"choropleth\":[{\"colorbar\":{\"outlinewidth\":0,\"ticks\":\"\"},\"type\":\"choropleth\"}],\"contour\":[{\"colorbar\":{\"outlinewidth\":0,\"ticks\":\"\"},\"colorscale\":[[0.0,\"#0d0887\"],[0.1111111111111111,\"#46039f\"],[0.2222222222222222,\"#7201a8\"],[0.3333333333333333,\"#9c179e\"],[0.4444444444444444,\"#bd3786\"],[0.5555555555555556,\"#d8576b\"],[0.6666666666666666,\"#ed7953\"],[0.7777777777777778,\"#fb9f3a\"],[0.8888888888888888,\"#fdca26\"],[1.0,\"#f0f921\"]],\"type\":\"contour\"}],\"contourcarpet\":[{\"colorbar\":{\"outlinewidth\":0,\"ticks\":\"\"},\"type\":\"contourcarpet\"}],\"heatmap\":[{\"colorbar\":{\"outlinewidth\":0,\"ticks\":\"\"},\"colorscale\":[[0.0,\"#0d0887\"],[0.1111111111111111,\"#46039f\"],[0.2222222222222222,\"#7201a8\"],[0.3333333333333333,\"#9c179e\"],[0.4444444444444444,\"#bd3786\"],[0.5555555555555556,\"#d8576b\"],[0.6666666666666666,\"#ed7953\"],[0.7777777777777778,\"#fb9f3a\"],[0.8888888888888888,\"#fdca26\"],[1.0,\"#f0f921\"]],\"type\":\"heatmap\"}],\"heatmapgl\":[{\"colorbar\":{\"outlinewidth\":0,\"ticks\":\"\"},\"colorscale\":[[0.0,\"#0d0887\"],[0.1111111111111111,\"#46039f\"],[0.2222222222222222,\"#7201a8\"],[0.3333333333333333,\"#9c179e\"],[0.4444444444444444,\"#bd3786\"],[0.5555555555555556,\"#d8576b\"],[0.6666666666666666,\"#ed7953\"],[0.7777777777777778,\"#fb9f3a\"],[0.8888888888888888,\"#fdca26\"],[1.0,\"#f0f921\"]],\"type\":\"heatmapgl\"}],\"histogram\":[{\"marker\":{\"pattern\":{\"fillmode\":\"overlay\",\"size\":10,\"solidity\":0.2}},\"type\":\"histogram\"}],\"histogram2d\":[{\"colorbar\":{\"outlinewidth\":0,\"ticks\":\"\"},\"colorscale\":[[0.0,\"#0d0887\"],[0.1111111111111111,\"#46039f\"],[0.2222222222222222,\"#7201a8\"],[0.3333333333333333,\"#9c179e\"],[0.4444444444444444,\"#bd3786\"],[0.5555555555555556,\"#d8576b\"],[0.6666666666666666,\"#ed7953\"],[0.7777777777777778,\"#fb9f3a\"],[0.8888888888888888,\"#fdca26\"],[1.0,\"#f0f921\"]],\"type\":\"histogram2d\"}],\"histogram2dcontour\":[{\"colorbar\":{\"outlinewidth\":0,\"ticks\":\"\"},\"colorscale\":[[0.0,\"#0d0887\"],[0.1111111111111111,\"#46039f\"],[0.2222222222222222,\"#7201a8\"],[0.3333333333333333,\"#9c179e\"],[0.4444444444444444,\"#bd3786\"],[0.5555555555555556,\"#d8576b\"],[0.6666666666666666,\"#ed7953\"],[0.7777777777777778,\"#fb9f3a\"],[0.8888888888888888,\"#fdca26\"],[1.0,\"#f0f921\"]],\"type\":\"histogram2dcontour\"}],\"mesh3d\":[{\"colorbar\":{\"outlinewidth\":0,\"ticks\":\"\"},\"type\":\"mesh3d\"}],\"parcoords\":[{\"line\":{\"colorbar\":{\"outlinewidth\":0,\"ticks\":\"\"}},\"type\":\"parcoords\"}],\"pie\":[{\"automargin\":true,\"type\":\"pie\"}],\"scatter\":[{\"marker\":{\"colorbar\":{\"outlinewidth\":0,\"ticks\":\"\"}},\"type\":\"scatter\"}],\"scatter3d\":[{\"line\":{\"colorbar\":{\"outlinewidth\":0,\"ticks\":\"\"}},\"marker\":{\"colorbar\":{\"outlinewidth\":0,\"ticks\":\"\"}},\"type\":\"scatter3d\"}],\"scattercarpet\":[{\"marker\":{\"colorbar\":{\"outlinewidth\":0,\"ticks\":\"\"}},\"type\":\"scattercarpet\"}],\"scattergeo\":[{\"marker\":{\"colorbar\":{\"outlinewidth\":0,\"ticks\":\"\"}},\"type\":\"scattergeo\"}],\"scattergl\":[{\"marker\":{\"colorbar\":{\"outlinewidth\":0,\"ticks\":\"\"}},\"type\":\"scattergl\"}],\"scattermapbox\":[{\"marker\":{\"colorbar\":{\"outlinewidth\":0,\"ticks\":\"\"}},\"type\":\"scattermapbox\"}],\"scatterpolar\":[{\"marker\":{\"colorbar\":{\"outlinewidth\":0,\"ticks\":\"\"}},\"type\":\"scatterpolar\"}],\"scatterpolargl\":[{\"marker\":{\"colorbar\":{\"outlinewidth\":0,\"ticks\":\"\"}},\"type\":\"scatterpolargl\"}],\"scatterternary\":[{\"marker\":{\"colorbar\":{\"outlinewidth\":0,\"ticks\":\"\"}},\"type\":\"scatterternary\"}],\"surface\":[{\"colorbar\":{\"outlinewidth\":0,\"ticks\":\"\"},\"colorscale\":[[0.0,\"#0d0887\"],[0.1111111111111111,\"#46039f\"],[0.2222222222222222,\"#7201a8\"],[0.3333333333333333,\"#9c179e\"],[0.4444444444444444,\"#bd3786\"],[0.5555555555555556,\"#d8576b\"],[0.6666666666666666,\"#ed7953\"],[0.7777777777777778,\"#fb9f3a\"],[0.8888888888888888,\"#fdca26\"],[1.0,\"#f0f921\"]],\"type\":\"surface\"}],\"table\":[{\"cells\":{\"fill\":{\"color\":\"#EBF0F8\"},\"line\":{\"color\":\"white\"}},\"header\":{\"fill\":{\"color\":\"#C8D4E3\"},\"line\":{\"color\":\"white\"}},\"type\":\"table\"}]},\"layout\":{\"annotationdefaults\":{\"arrowcolor\":\"#2a3f5f\",\"arrowhead\":0,\"arrowwidth\":1},\"autotypenumbers\":\"strict\",\"coloraxis\":{\"colorbar\":{\"outlinewidth\":0,\"ticks\":\"\"}},\"colorscale\":{\"diverging\":[[0,\"#8e0152\"],[0.1,\"#c51b7d\"],[0.2,\"#de77ae\"],[0.3,\"#f1b6da\"],[0.4,\"#fde0ef\"],[0.5,\"#f7f7f7\"],[0.6,\"#e6f5d0\"],[0.7,\"#b8e186\"],[0.8,\"#7fbc41\"],[0.9,\"#4d9221\"],[1,\"#276419\"]],\"sequential\":[[0.0,\"#0d0887\"],[0.1111111111111111,\"#46039f\"],[0.2222222222222222,\"#7201a8\"],[0.3333333333333333,\"#9c179e\"],[0.4444444444444444,\"#bd3786\"],[0.5555555555555556,\"#d8576b\"],[0.6666666666666666,\"#ed7953\"],[0.7777777777777778,\"#fb9f3a\"],[0.8888888888888888,\"#fdca26\"],[1.0,\"#f0f921\"]],\"sequentialminus\":[[0.0,\"#0d0887\"],[0.1111111111111111,\"#46039f\"],[0.2222222222222222,\"#7201a8\"],[0.3333333333333333,\"#9c179e\"],[0.4444444444444444,\"#bd3786\"],[0.5555555555555556,\"#d8576b\"],[0.6666666666666666,\"#ed7953\"],[0.7777777777777778,\"#fb9f3a\"],[0.8888888888888888,\"#fdca26\"],[1.0,\"#f0f921\"]]},\"colorway\":[\"#636efa\",\"#EF553B\",\"#00cc96\",\"#ab63fa\",\"#FFA15A\",\"#19d3f3\",\"#FF6692\",\"#B6E880\",\"#FF97FF\",\"#FECB52\"],\"font\":{\"color\":\"#2a3f5f\"},\"geo\":{\"bgcolor\":\"white\",\"lakecolor\":\"white\",\"landcolor\":\"#E5ECF6\",\"showlakes\":true,\"showland\":true,\"subunitcolor\":\"white\"},\"hoverlabel\":{\"align\":\"left\"},\"hovermode\":\"closest\",\"mapbox\":{\"style\":\"light\"},\"paper_bgcolor\":\"white\",\"plot_bgcolor\":\"#E5ECF6\",\"polar\":{\"angularaxis\":{\"gridcolor\":\"white\",\"linecolor\":\"white\",\"ticks\":\"\"},\"bgcolor\":\"#E5ECF6\",\"radialaxis\":{\"gridcolor\":\"white\",\"linecolor\":\"white\",\"ticks\":\"\"}},\"scene\":{\"xaxis\":{\"backgroundcolor\":\"#E5ECF6\",\"gridcolor\":\"white\",\"gridwidth\":2,\"linecolor\":\"white\",\"showbackground\":true,\"ticks\":\"\",\"zerolinecolor\":\"white\"},\"yaxis\":{\"backgroundcolor\":\"#E5ECF6\",\"gridcolor\":\"white\",\"gridwidth\":2,\"linecolor\":\"white\",\"showbackground\":true,\"ticks\":\"\",\"zerolinecolor\":\"white\"},\"zaxis\":{\"backgroundcolor\":\"#E5ECF6\",\"gridcolor\":\"white\",\"gridwidth\":2,\"linecolor\":\"white\",\"showbackground\":true,\"ticks\":\"\",\"zerolinecolor\":\"white\"}},\"shapedefaults\":{\"line\":{\"color\":\"#2a3f5f\"}},\"ternary\":{\"aaxis\":{\"gridcolor\":\"white\",\"linecolor\":\"white\",\"ticks\":\"\"},\"baxis\":{\"gridcolor\":\"white\",\"linecolor\":\"white\",\"ticks\":\"\"},\"bgcolor\":\"#E5ECF6\",\"caxis\":{\"gridcolor\":\"white\",\"linecolor\":\"white\",\"ticks\":\"\"}},\"title\":{\"x\":0.05},\"xaxis\":{\"automargin\":true,\"gridcolor\":\"white\",\"linecolor\":\"white\",\"ticks\":\"\",\"title\":{\"standoff\":15},\"zerolinecolor\":\"white\",\"zerolinewidth\":2},\"yaxis\":{\"automargin\":true,\"gridcolor\":\"white\",\"linecolor\":\"white\",\"ticks\":\"\",\"title\":{\"standoff\":15},\"zerolinecolor\":\"white\",\"zerolinewidth\":2}}},\"coloraxis\":{\"colorbar\":{\"title\":{\"text\":\"values\"}},\"colorscale\":[[0.0,\"rgb(255,245,235)\"],[0.125,\"rgb(254,230,206)\"],[0.25,\"rgb(253,208,162)\"],[0.375,\"rgb(253,174,107)\"],[0.5,\"rgb(253,141,60)\"],[0.625,\"rgb(241,105,19)\"],[0.75,\"rgb(217,72,1)\"],[0.875,\"rgb(166,54,3)\"],[1.0,\"rgb(127,39,4)\"]]},\"legend\":{\"tracegroupgap\":0},\"margin\":{\"t\":80,\"l\":10,\"r\":10,\"b\":10},\"title\":{\"text\":\"Top 5 Places with the Most Foreign Tourists in Maharashtra\",\"y\":0.95,\"x\":0.5,\"xanchor\":\"center\",\"yanchor\":\"top\"},\"font\":{\"size\":16},\"annotations\":[{\"font\":{\"size\":12},\"showarrow\":false,\"x\":0.5,\"xref\":\"paper\",\"y\":0.95,\"yref\":\"paper\"}]},                        {\"responsive\": true}                    ).then(function(){\n",
              "                            \n",
              "var gd = document.getElementById('814a0943-b68f-4382-8d17-6d879151afe1');\n",
              "var x = new MutationObserver(function (mutations, observer) {{\n",
              "        var display = window.getComputedStyle(gd).display;\n",
              "        if (!display || display === 'none') {{\n",
              "            console.log([gd, 'removed!']);\n",
              "            Plotly.purge(gd);\n",
              "            observer.disconnect();\n",
              "        }}\n",
              "}});\n",
              "\n",
              "// Listen for the removal of the full notebook cells\n",
              "var notebookContainer = gd.closest('#notebook-container');\n",
              "if (notebookContainer) {{\n",
              "    x.observe(notebookContainer, {childList: true});\n",
              "}}\n",
              "\n",
              "// Listen for the clearing of the current output cell\n",
              "var outputEl = gd.closest('.output');\n",
              "if (outputEl) {{\n",
              "    x.observe(outputEl, {childList: true});\n",
              "}}\n",
              "\n",
              "                        })                };                            </script>        </div>\n",
              "</body>\n",
              "</html>"
            ]
          },
          "metadata": {}
        }
      ]
    },
    {
      "cell_type": "markdown",
      "source": [
        "##### It can be observed from the difference in the bar plots that the top five places most visited by foreign tourists are distinct from the top five most visited places by Indian tourists."
      ],
      "metadata": {
        "id": "NE9gGYY6UKTe"
      }
    },
    {
      "cell_type": "markdown",
      "source": [
        "### 5. Top 10 Districts in Maharashtra visited for Leisure/Non-Leisure"
      ],
      "metadata": {
        "id": "haP2sgTkVG3V"
      }
    },
    {
      "cell_type": "code",
      "source": [
        "query = \"\"\"\n",
        "    SELECT District, sum(\"Purpose: Leisure\")\n",
        "    FROM tourists\n",
        "    GROUP BY District\n",
        "    ORDER BY sum(\"Purpose: Leisure\") DESC\n",
        "    LIMIT 10\n",
        "\"\"\"\n",
        "c.execute(query)\n",
        "out1 = c.fetchall()"
      ],
      "metadata": {
        "id": "jQldJFE6UxLF"
      },
      "execution_count": null,
      "outputs": []
    },
    {
      "cell_type": "code",
      "source": [
        "query = \"\"\"\n",
        "    SELECT District, sum(\"Purpose: Non-Leisure\")\n",
        "    FROM tourists\n",
        "    GROUP BY District\n",
        "    ORDER BY sum(\"Purpose: Leisure\") DESC\n",
        "    LIMIT 10\n",
        "\"\"\"\n",
        "c.execute(query)\n",
        "out2 = c.fetchall()"
      ],
      "metadata": {
        "id": "FIhsW7LAXLZl"
      },
      "execution_count": null,
      "outputs": []
    },
    {
      "cell_type": "code",
      "source": [
        "top_10_leisure_labels = [entry[0] for entry in out1]\n",
        "top_10_leisure_values = [entry[1] for entry in out1]"
      ],
      "metadata": {
        "id": "PvVnrteEV85d"
      },
      "execution_count": null,
      "outputs": []
    },
    {
      "cell_type": "code",
      "source": [
        "top_10_non_leisure_labels = [entry[0] for entry in out2]\n",
        "top_10_non_leisure_values = [entry[1] for entry in out2]"
      ],
      "metadata": {
        "id": "7hdg5hqPXY5g"
      },
      "execution_count": null,
      "outputs": []
    },
    {
      "cell_type": "code",
      "source": [
        "import seaborn as sns\n",
        "import matplotlib.pyplot as plt\n",
        "\n",
        "# Create dataframes for leisure and non-leisure data\n",
        "df_leisure = pd.DataFrame({'District': top_10_leisure_labels, 'Number of Visitors': top_10_leisure_values})\n",
        "df_non_leisure = pd.DataFrame({'District': top_10_non_leisure_labels, 'Number of Visitors': top_10_non_leisure_values})\n",
        "\n",
        "fig, ax = plt.subplots(2,1, figsize=(20,10))\n",
        "\n",
        "# horizontal bar plot for top 10 leisure districts\n",
        "orange_palette = sns.color_palette(\"Oranges_r\", len(top_10_leisure_labels))\n",
        "ax[0].barh(range(10), top_10_leisure_values, tick_label=top_10_leisure_labels, height=0.6, color=orange_palette)\n",
        "ax[0].set_title(\"Top 10 Districts in Maharashtra Visited for Leisure\")\n",
        "ax[0].set_xlabel(\"Number of Visitors\")\n",
        "\n",
        "# horizontal bar plot for top 10 non-leisure districts\n",
        "brown_palette = sns.color_palette(\"YlOrBr_r\", len(top_10_non_leisure_labels))\n",
        "ax[1].barh(range(10), top_10_non_leisure_values, tick_label=top_10_non_leisure_labels, height=0.6, color=brown_palette)\n",
        "ax[1].set_title(\"Top 10 Districts in Maharashtra Visited for Non-Leisure\")\n",
        "ax[1].set_xlabel(\"Number of Visitors\")\n",
        "\n",
        "plt.show()\n"
      ],
      "metadata": {
        "colab": {
          "base_uri": "https://localhost:8080/",
          "height": 621
        },
        "id": "8MV4eF9JWj2J",
        "outputId": "a5039ab6-92de-42f1-909b-78be1c8fa018"
      },
      "execution_count": null,
      "outputs": [
        {
          "output_type": "display_data",
          "data": {
            "text/plain": [
              "<Figure size 1440x720 with 2 Axes>"
            ],
            "image/png": "[encoded data removed]"
          },
          "metadata": {
            "needs_background": "light"
          }
        }
      ]
    },
    {
      "cell_type": "code",
      "source": [
        "# Define custom color palette\n",
        "custom_palette = {'Leisure': 'orange', 'Non-Leisure': 'brown'}\n",
        "\n",
        "# Create a new dataframe combining leisure and non-leisure data\n",
        "df_combined = pd.concat([df_leisure, df_non_leisure], keys=['Leisure', 'Non-Leisure'])\n",
        "\n",
        "# Create a horizontal bar plot for combined data\n",
        "plt.figure(figsize=(12, 6))\n",
        "sns.barplot(x='Number of Visitors', y='District', data=df_combined, hue=df_combined.index.get_level_values(0), palette=custom_palette)\n",
        "plt.title('Top 10 Districts in Maharashtra Visited for Leisure and Non-Leisure')\n",
        "plt.xlabel('Number of Visitors')\n",
        "plt.legend()\n",
        "plt.show()\n"
      ],
      "metadata": {
        "colab": {
          "base_uri": "https://localhost:8080/",
          "height": 404
        },
        "id": "gwzpA1RYskz_",
        "outputId": "be06804e-e0c0-452d-83d3-b45602cd7301"
      },
      "execution_count": null,
      "outputs": [
        {
          "output_type": "display_data",
          "data": {
            "text/plain": [
              "<Figure size 864x432 with 1 Axes>"
            ],
            "image/png": "[encoded data removed]"
          },
          "metadata": {
            "needs_background": "light"
          }
        }
      ]
    },
    {
      "cell_type": "markdown",
      "source": [
        "##### The two bar plots presented above display the top 10 districts that visitors travel to for leisure or non-leisure purposes. Leisure travel primarily encompasses tourism, visiting friends and family, and all non-business or educational reasons."
      ],
      "metadata": {
        "id": "Gxrq-5O_YZDr"
      }
    },
    {
      "cell_type": "markdown",
      "source": [
        "### 6. Top 10 Places visited by Tourists of Different Age-Groups"
      ],
      "metadata": {
        "id": "8maA81E8Y2rb"
      }
    },
    {
      "cell_type": "code",
      "source": [
        "query = \"\"\"\n",
        "    SELECT Destination, sum(\"Age: 25-34 yrs\")\n",
        "    FROM tourists\n",
        "    GROUP BY Destination\n",
        "    ORDER BY sum(\"Age: 25-34 yrs\") DESC\n",
        "    LIMIT 10\n",
        "\"\"\"\n",
        "c.execute(query)\n",
        "out3 = c.fetchall()"
      ],
      "metadata": {
        "id": "dKHoWSv3YtlM"
      },
      "execution_count": null,
      "outputs": []
    },
    {
      "cell_type": "code",
      "source": [
        "top_10_age_25_34_labels = [entry[0] for entry in out3]\n",
        "top_10_age_25_34_values = [entry[1] for entry in out3]"
      ],
      "metadata": {
        "id": "bDzuKG4NaQna"
      },
      "execution_count": null,
      "outputs": []
    },
    {
      "cell_type": "code",
      "source": [
        "query = \"\"\"\n",
        "    SELECT Destination, sum(\"Age: 45-60 yrs\")\n",
        "    FROM tourists\n",
        "    GROUP BY Destination\n",
        "    ORDER BY sum(\"Age: 45-60 yrs\") DESC\n",
        "    LIMIT 10\n",
        "\"\"\"\n",
        "c.execute(query)\n",
        "out4 = c.fetchall()"
      ],
      "metadata": {
        "id": "F_TT0D-GZs6G"
      },
      "execution_count": null,
      "outputs": []
    },
    {
      "cell_type": "code",
      "source": [
        "top_10_age_45_60_labels = [entry[0] for entry in out4]\n",
        "top_10_age_45_60_values = [entry[1] for entry in out4]"
      ],
      "metadata": {
        "id": "He5G-gQwaRcB"
      },
      "execution_count": null,
      "outputs": []
    },
    {
      "cell_type": "code",
      "source": [
        "query = \"\"\"\n",
        "    SELECT Destination, sum(\"Age:  > 60 yrs\")\n",
        "    FROM tourists\n",
        "    GROUP BY Destination\n",
        "    ORDER BY sum(\"Age:  > 60 yrs\") DESC\n",
        "    LIMIT 10\n",
        "\"\"\"\n",
        "c.execute(query)\n",
        "out5 = c.fetchall()"
      ],
      "metadata": {
        "id": "lt5d_xEgaAn6"
      },
      "execution_count": null,
      "outputs": []
    },
    {
      "cell_type": "code",
      "source": [
        "top_10_age_60_labels = [entry[0] for entry in out5]\n",
        "top_10_age_60_values = [entry[1] for entry in out5]"
      ],
      "metadata": {
        "id": "U6fgThMdaPHc"
      },
      "execution_count": null,
      "outputs": []
    },
    {
      "cell_type": "code",
      "source": [
        "# Create a 2D array with the number of visitors for each place and age group\n",
        "data = np.array([\n",
        "    top_10_age_25_34_values,\n",
        "    top_10_age_45_60_values,\n",
        "    top_10_age_60_values\n",
        "])\n",
        "\n",
        "# Set the x and y axis labels\n",
        "places = top_10_age_25_34_labels\n",
        "age_groups = ['25-34', '45-60', 'Above 60']\n",
        "\n",
        "# Create the heatmap\n",
        "fig, ax = plt.subplots(figsize=(18, 12))\n",
        "im = ax.imshow(data, cmap='YlOrRd')\n",
        "\n",
        "# Add the colorbar\n",
        "cbar = ax.figure.colorbar(im, ax=ax)\n",
        "\n",
        "# Set the x and y axis ticks and labels\n",
        "ax.set_xticks(np.arange(len(places)))\n",
        "ax.set_yticks(np.arange(len(age_groups)))\n",
        "ax.set_xticklabels(places)\n",
        "ax.set_yticklabels(age_groups)\n",
        "\n",
        "# Rotate the x axis labels\n",
        "plt.setp(ax.get_xticklabels(), rotation=45, ha=\"right\", rotation_mode=\"anchor\")\n",
        "\n",
        "# Loop over data dimensions and create text annotations\n",
        "for i in range(len(age_groups)):\n",
        "    for j in range(len(places)):\n",
        "        text = ax.text(j, i, data[i, j], ha=\"center\", va=\"center\", color=\"black\")\n",
        "\n",
        "# Set the title and axis labels\n",
        "ax.set_title(\"Number of Visitors by Age Group and Place\")\n",
        "ax.set_xlabel(\"Place\")\n",
        "ax.set_ylabel(\"Age Group\")\n",
        "\n",
        "plt.show()\n"
      ],
      "metadata": {
        "colab": {
          "base_uri": "https://localhost:8080/",
          "height": 694
        },
        "id": "JX0yTsmYarAU",
        "outputId": "1eb71f3a-f450-4f72-c201-b8039ad8949f"
      },
      "execution_count": null,
      "outputs": [
        {
          "output_type": "display_data",
          "data": {
            "text/plain": [
              "<Figure size 1296x864 with 2 Axes>"
            ],
            "image/png": "[encoded data removed]"
          },
          "metadata": {
            "needs_background": "light"
          }
        }
      ]
    },
    {
      "cell_type": "markdown",
      "source": [
        "##### The three plots depicted above illustrate the distribution of the top 10 most visited places in Maharashtra among tourists of varying age groups. These plots offer a fascinating glimpse into the correlation between age and preferred tourist destinations. According to the bar plots, it can be observed that Shanisignapur, which is a temple, is more frequently visited by individuals over 35 years of age than those who fall below this age bracket."
      ],
      "metadata": {
        "id": "ssNL-E5qcKhD"
      }
    },
    {
      "cell_type": "markdown",
      "source": [
        "### 7. Top 5 Places in Maharashtra with the Highest/Lowest tourist Male-to-Female ratio"
      ],
      "metadata": {
        "id": "MiWoO3Yvgz3Y"
      }
    },
    {
      "cell_type": "code",
      "source": [
        "query = \"\"\"\n",
        "    SELECT Destination, \"Male:Female\"\n",
        "    FROM tourists\n",
        "    GROUP BY \"Male:Female\"\n",
        "    ORDER BY \"Male:Female\" DESC\n",
        "    LIMIT 5\n",
        "\"\"\"\n",
        "c.execute(query)\n",
        "out1 = c.fetchall()"
      ],
      "metadata": {
        "id": "mT9pqW6ZAn79"
      },
      "execution_count": null,
      "outputs": []
    },
    {
      "cell_type": "code",
      "source": [
        "query = \"\"\"\n",
        "    SELECT Destination, \"Male:Female\"\n",
        "    FROM tourists\n",
        "    GROUP BY \"Male:Female\"\n",
        "    ORDER BY \"Male:Female\"\n",
        "    LIMIT 5\n",
        "\"\"\"\n",
        "c.execute(query)\n",
        "out2 = c.fetchall()"
      ],
      "metadata": {
        "id": "QpbKx-Izjnfi"
      },
      "execution_count": null,
      "outputs": []
    },
    {
      "cell_type": "code",
      "source": [
        "top_10_highest_male_female_labels = [entry[0] for entry in out1]\n",
        "top_10_highest_male_female_values = [entry[1] for entry in out1]"
      ],
      "metadata": {
        "id": "lQ4FAEU1hLR8"
      },
      "execution_count": null,
      "outputs": []
    },
    {
      "cell_type": "code",
      "source": [
        "top_10_lowest_male_female_labels = [entry[0] for entry in out2]\n",
        "top_10_lowest_male_female_values = [entry[1] for entry in out2]"
      ],
      "metadata": {
        "id": "H_PSNsRLjzem"
      },
      "execution_count": null,
      "outputs": []
    },
    {
      "cell_type": "code",
      "source": [
        "import matplotlib.pyplot as plt\n",
        "import numpy as np\n",
        "\n",
        "# Create a combined list of labels and values for both top 10 highest and lowest ratios\n",
        "labels = top_10_highest_male_female_labels + top_10_lowest_male_female_labels\n",
        "values = top_10_highest_male_female_values + top_10_lowest_male_female_values\n",
        "\n",
        "# Calculate the male-female ratio for each place and create a corresponding color map\n",
        "ratios = np.array(top_10_highest_male_female_values + top_10_lowest_male_female_values)\n",
        "colors = plt.cm.YlOrBr(ratios / ratios.max())\n",
        "\n",
        "# Create a horizontal bar chart with two sets of bars for each place\n",
        "fig, ax = plt.subplots(figsize=(15, 10))\n",
        "ax.barh(y=labels, width=values, color=colors)\n",
        "\n",
        "# Add a legend to show the male-female ratio scale\n",
        "cmap = plt.cm.YlOrBr\n",
        "norm = plt.Normalize(ratios.min(), ratios.max())\n",
        "sm = plt.cm.ScalarMappable(cmap='YlOrBr', norm=norm)\n",
        "sm.set_array([])\n",
        "cbar = plt.colorbar(sm)\n",
        "cbar.set_label('Male:Female Ratio')\n",
        "\n",
        "# Add a title and axis labels\n",
        "ax.set_title('Male:Female Ratio of Tourists in Top 10 Places')\n",
        "ax.set_xlabel('Ratio of Male to Female Tourists')\n",
        "ax.set_ylabel('Place')\n",
        "\n",
        "plt.show()\n"
      ],
      "metadata": {
        "colab": {
          "base_uri": "https://localhost:8080/",
          "height": 621
        },
        "id": "HOJFmIrBiYut",
        "outputId": "2af02840-779c-46e0-9c83-bd3c333d0b13"
      },
      "execution_count": null,
      "outputs": [
        {
          "output_type": "display_data",
          "data": {
            "text/plain": [
              "<Figure size 1080x720 with 2 Axes>"
            ],
            "image/png": "[encoded data removed]"
          },
          "metadata": {
            "needs_background": "light"
          }
        }
      ]
    },
    {
      "cell_type": "markdown",
      "source": [
        "##### We can infer from the plot above that places such as Shirdi, which is a temple, and Ajanta or Chikaldhara, which are tourist spots, have the highest male-to-female ratios of tourists."
      ],
      "metadata": {
        "id": "4InMZ9KojXMy"
      }
    },
    {
      "cell_type": "markdown",
      "source": [
        "### 8. Top 10 Districts in Maharashtra Having Highest Number of Average Visitors"
      ],
      "metadata": {
        "id": "jBwpradAlxpb"
      }
    },
    {
      "cell_type": "code",
      "source": [
        "query = \"\"\"\n",
        "    SELECT District, AVG(\"Total Visits\")\n",
        "    FROM tourists\n",
        "    GROUP BY District\n",
        "    ORDER BY \"Total Visits\" DESC\n",
        "    LIMIT 10\n",
        "\"\"\"\n",
        "c.execute(query)\n",
        "res = c.fetchall()"
      ],
      "metadata": {
        "id": "S98KUQJVjWNC"
      },
      "execution_count": null,
      "outputs": []
    },
    {
      "cell_type": "code",
      "source": [
        "top_10_highest_avg_visit_labels = [entry[0] for entry in res]\n",
        "top_10_highest_avg_visit_values = [entry[1] for entry in res]"
      ],
      "metadata": {
        "id": "UVldjQg9sYYB"
      },
      "execution_count": null,
      "outputs": []
    },
    {
      "cell_type": "code",
      "source": [
        "import matplotlib.pyplot as plt\n",
        "\n",
        "# Set the figure size\n",
        "plt.figure(figsize=(20,17))\n",
        "\n",
        "# Plot the bar chart\n",
        "plt.bar(range(10), top_10_highest_avg_visit_values, width=0.8, color=\"brown\")\n",
        "\n",
        "# Add x-axis and y-axis labels\n",
        "plt.xlabel(\"Districts\", fontsize=14)\n",
        "plt.ylabel(\"Average Number of Visitors\", fontsize=14)\n",
        "\n",
        "# Add title\n",
        "plt.title(\"Top 10 Districts with Highest Number of Avg Visitors\", fontsize=18)\n",
        "\n",
        "# Add tick labels\n",
        "plt.xticks(range(10), top_10_highest_avg_visit_labels)\n",
        "\n",
        "# Add horizontal gridlines\n",
        "plt.grid(axis=\"y\")\n",
        "\n",
        "# Add annotations\n",
        "for i, v in enumerate(top_10_highest_avg_visit_values):\n",
        "    plt.text(i, v/2, \"{:.2f}\".format(v), rotation=90, ha=\"center\", va=\"center\", color=\"black\", fontsize=15)\n",
        "\n",
        "# Show the plot\n",
        "plt.show()\n"
      ],
      "metadata": {
        "colab": {
          "base_uri": "https://localhost:8080/",
          "height": 1000
        },
        "id": "kRG_e8U3sSEs",
        "outputId": "841bcfb7-00ad-4651-f972-8d3ca18dfa25"
      },
      "execution_count": null,
      "outputs": [
        {
          "output_type": "display_data",
          "data": {
            "text/plain": [
              "<Figure size 1440x1224 with 1 Axes>"
            ],
            "image/png": "[encoded data removed]"
          },
          "metadata": {
            "needs_background": "light"
          }
        }
      ]
    },
    {
      "cell_type": "markdown",
      "source": [
        "##### The above plot shows the distribution among the cities having the highest number of Average visitors and the Average is calculated over 4 years."
      ],
      "metadata": {
        "id": "6rGIEB-Rt8uy"
      }
    },
    {
      "cell_type": "markdown",
      "source": [
        "### 9. Monthly Distribution of Total No. of Visitors in Shirdi v.s. Gateway of India in the Year 2014"
      ],
      "metadata": {
        "id": "1u-gb_DL0oDS"
      }
    },
    {
      "cell_type": "code",
      "source": [
        "query = \"\"\"\n",
        "    SELECT Month, \"Total Visits\"\n",
        "    FROM tourists\n",
        "    WHERE Destination = \"Shirdi\" AND YEAR = 2014\n",
        "    GROUP BY Month\n",
        "    LIMIT 10\n",
        "\"\"\"\n",
        "c.execute(query)\n",
        "res2 = c.fetchall()"
      ],
      "metadata": {
        "id": "0n2Nc196tPr8"
      },
      "execution_count": null,
      "outputs": []
    },
    {
      "cell_type": "code",
      "source": [
        "Shirdi_2014 = [entry[1] for entry in res2]"
      ],
      "metadata": {
        "id": "Piby3vihyq9j"
      },
      "execution_count": null,
      "outputs": []
    },
    {
      "cell_type": "code",
      "source": [
        "query = \"\"\"\n",
        "    SELECT Month, \"Total Visits\"\n",
        "    FROM tourists\n",
        "    WHERE Destination = \"Gateway of India\" AND YEAR = 2014\n",
        "    GROUP BY Month\n",
        "    LIMIT 10\n",
        "\"\"\"\n",
        "c.execute(query)\n",
        "res3 = c.fetchall()"
      ],
      "metadata": {
        "id": "3HueRJF50Jhy"
      },
      "execution_count": null,
      "outputs": []
    },
    {
      "cell_type": "code",
      "source": [
        "GOI_2014 = [entry[1] for entry in res3]"
      ],
      "metadata": {
        "id": "1P4GwR-L0PSR"
      },
      "execution_count": null,
      "outputs": []
    },
    {
      "cell_type": "code",
      "source": [
        "# Data\n",
        "Shirdi_2014 = [entry[1] for entry in res2]\n",
        "GOI_2014 = [entry[1] for entry in res3]\n",
        "months = ['January', 'February', 'March', 'October', 'November', 'December']\n",
        "\n",
        "# Define custom color scheme\n",
        "colors = ['#E79E4F', '#AF601A', '#FFD662']\n",
        "\n",
        "# Figure and Axes\n",
        "fig, ax = plt.subplots(figsize=(12, 6))\n",
        "\n",
        "# Area Plots\n",
        "ax.fill_between(months, Shirdi_2014, alpha=0.5, color=colors[0], label='Shirdi')\n",
        "ax.fill_between(months, GOI_2014, alpha=0.5, color=colors[1], label='Gateway of India')\n",
        "\n",
        "# Axis Labels and Title\n",
        "ax.set_xlabel('Month')\n",
        "ax.set_ylabel('Number of Tourists')\n",
        "ax.set_title('Monthly Distribution of Total No. of Tourists in 2014')\n",
        "\n",
        "# Legend\n",
        "ax.legend()\n",
        "\n",
        "# Remove Scientific Notation on y-axis\n",
        "plt.ticklabel_format(axis='y', style='plain')\n",
        "\n",
        "# Show Plot\n",
        "plt.show()\n"
      ],
      "metadata": {
        "colab": {
          "base_uri": "https://localhost:8080/",
          "height": 404
        },
        "id": "GQWFsRVvyekM",
        "outputId": "62eec9f2-5f7b-4e57-ee64-d4e9f6b90907"
      },
      "execution_count": null,
      "outputs": [
        {
          "output_type": "display_data",
          "data": {
            "text/plain": [
              "<Figure size 864x432 with 1 Axes>"
            ],
            "image/png": "[encoded data removed]"
          },
          "metadata": {
            "needs_background": "light"
          }
        }
      ]
    },
    {
      "cell_type": "markdown",
      "source": [
        "##### By examining the two adjacent pie charts shown above, it can be noted that the months of January, March, and October had higher visitations to Shirdi, which is a popular temple, compared to the other months. On the other hand, the number of tourists visiting the Gateway of India, which is a renowned tourist destination, was nearly evenly distributed throughout all months in the year 2014."
      ],
      "metadata": {
        "id": "eipJJ_XU03BX"
      }
    },
    {
      "cell_type": "markdown",
      "source": [
        "## Building a Recommendation System"
      ],
      "metadata": {
        "id": "Vyodie9IgjyK"
      }
    },
    {
      "cell_type": "markdown",
      "source": [
        "#### A neural-network based recommendation system has been developed to provide recommendations for tourists looking to visit different destinations within Maharashtra, India. This system takes the district and destination as input and generates recommendations for other destinations within the same district or a different district that may be of interest to the tourist.\n"
      ],
      "metadata": {
        "id": "8Qj1F5_TgnNM"
      }
    },
    {
      "cell_type": "code",
      "source": [
        "#importing necessary libraries\n",
        "\n",
        "import time\n",
        "from sklearn.preprocessing import StandardScaler\n",
        "from tensorflow.keras.models import Sequential\n",
        "from tensorflow.keras.layers import Dense"
      ],
      "metadata": {
        "id": "BG7-IbyumvOL"
      },
      "execution_count": null,
      "outputs": []
    },
    {
      "cell_type": "markdown",
      "source": [
        "Now we will get the features ready and build the recommendation system\n",
        "\n",
        "##### Libraries Used:\n",
        "\n",
        "\n",
        "1.   time : Used for calculating the time taken by the model to train.\n",
        "2.   sklearn : Used for importing routines like StandardScaler used for Standardizing the data.\n",
        "3.   tensorflow.keras : Used to import classes such as Sequential and Dense used for creating and training the mode.\n",
        "\n"
      ],
      "metadata": {
        "id": "AGH5cUmHrm7V"
      }
    },
    {
      "cell_type": "code",
      "source": [
        "# Extract the unique destinations\n",
        "\n",
        "destinations = Mhrshtra_tourist_df[\"Destination\"].unique()\n",
        "\n",
        "features = []\n",
        "for dest in destinations:\n",
        "    dest_df = Mhrshtra_tourist_df[Mhrshtra_tourist_df[\"Destination\"] == dest]\n",
        "    features.append([\n",
        "        dest_df[\"Domestic Visits\"].sum(),\n",
        "        dest_df[\"Foreign Visits\"].sum(),\n",
        "        dest_df[\"Total Visits\"].sum(),\n",
        "        dest_df[\"Age: 15-24 yrs   \"].sum(),\n",
        "        dest_df[\"Age: 25-34 yrs\"].sum(),\n",
        "        dest_df[\"Age: 35-44 yrs\"].sum(),\n",
        "        dest_df[\"Age: 45-60 yrs\"].sum(),\n",
        "        dest_df[\"Age:  > 60 yrs\"].sum(),\n",
        "        dest_df[\"Male:Female\"].mean(),\n",
        "        dest_df[\"Purpose: Leisure\"].sum(),\n",
        "        dest_df[\"Purpose: Non-Leisure\"].sum()\n",
        "    ])\n",
        "features = np.array(features)\n",
        "\n",
        "# Create a feature matrix\n",
        "X = Mhrshtra_tourist_df[[\"Domestic Visits\", \"Foreign Visits\", \"Total Visits\",\n",
        "        \"Age: 15-24 yrs   \", \"Age: 15-24 yrs   \", \"Age: 35-44 yrs\",\n",
        "        \"Age: 45-60 yrs\", \"Age:  > 60 yrs\", \"Male:Female\",\n",
        "        \"Purpose: Leisure\", \"Purpose: Non-Leisure\"]]\n",
        "y = Mhrshtra_tourist_df[\"Destination\"]\n",
        "\n",
        "# Normalize the feature matrix\n",
        "scaler = StandardScaler()\n",
        "X = scaler.fit_transform(X)\n",
        "\n",
        "# Define the neural network model\n",
        "model = Sequential()\n",
        "model.add(Dense(64, input_dim=X.shape[1], activation=\"relu\"))\n",
        "model.add(Dense(32, activation=\"relu\"))\n",
        "model.add(Dense(y.nunique(), activation=\"softmax\"))\n",
        "\n",
        "# Training Parameters\n",
        "epochs = 50\n",
        "batch_size = 16\n",
        "optimizer = \"adam\"\n",
        "\n",
        "model.compile(loss=\"categorical_crossentropy\", optimizer=optimizer)\n",
        "\n",
        "# Train the model\n",
        "y_one_hot = pd.get_dummies(y)\n",
        "\n",
        "start = time.time()\n",
        "model.fit(X, y_one_hot, epochs=epochs, batch_size=batch_size, verbose=1)\n",
        "end = time.time()\n",
        "\n",
        "print(f\"Training Time: {end-start: .2f} seconds\")"
      ],
      "metadata": {
        "id": "UEMJGP47RTrw",
        "colab": {
          "base_uri": "https://localhost:8080/"
        },
        "outputId": "c122412f-5842-4a48-9900-22386e73d433"
      },
      "execution_count": null,
      "outputs": [
        {
          "output_type": "stream",
          "name": "stdout",
          "text": [
            "Epoch 1/50\n",
            "297/297 [==============================] - 1s 2ms/step - loss: 4.9619\n",
            "Epoch 2/50\n",
            "297/297 [==============================] - 0s 2ms/step - loss: 3.9269\n",
            "Epoch 3/50\n",
            "297/297 [==============================] - 0s 2ms/step - loss: 3.4766\n",
            "Epoch 4/50\n",
            "297/297 [==============================] - 1s 2ms/step - loss: 3.1916\n",
            "Epoch 5/50\n",
            "297/297 [==============================] - 0s 2ms/step - loss: 2.9544\n",
            "Epoch 6/50\n",
            "297/297 [==============================] - 1s 2ms/step - loss: 2.7757\n",
            "Epoch 7/50\n",
            "297/297 [==============================] - 1s 2ms/step - loss: 2.6144\n",
            "Epoch 8/50\n",
            "297/297 [==============================] - 1s 2ms/step - loss: 2.4985\n",
            "Epoch 9/50\n",
            "297/297 [==============================] - 1s 2ms/step - loss: 2.3956\n",
            "Epoch 10/50\n",
            "297/297 [==============================] - 1s 2ms/step - loss: 2.3082\n",
            "Epoch 11/50\n",
            "297/297 [==============================] - 1s 2ms/step - loss: 2.2304\n",
            "Epoch 12/50\n",
            "297/297 [==============================] - 0s 2ms/step - loss: 2.1635\n",
            "Epoch 13/50\n",
            "297/297 [==============================] - 0s 2ms/step - loss: 2.1141\n",
            "Epoch 14/50\n",
            "297/297 [==============================] - 0s 2ms/step - loss: 2.0709\n",
            "Epoch 15/50\n",
            "297/297 [==============================] - 1s 2ms/step - loss: 1.9923\n",
            "Epoch 16/50\n",
            "297/297 [==============================] - 0s 2ms/step - loss: 1.9724\n",
            "Epoch 17/50\n",
            "297/297 [==============================] - 0s 2ms/step - loss: 1.9215\n",
            "Epoch 18/50\n",
            "297/297 [==============================] - 0s 2ms/step - loss: 1.8837\n",
            "Epoch 19/50\n",
            "297/297 [==============================] - 0s 2ms/step - loss: 1.8471\n",
            "Epoch 20/50\n",
            "297/297 [==============================] - 0s 2ms/step - loss: 1.8110\n",
            "Epoch 21/50\n",
            "297/297 [==============================] - 0s 2ms/step - loss: 1.7777\n",
            "Epoch 22/50\n",
            "297/297 [==============================] - 0s 1ms/step - loss: 1.7558\n",
            "Epoch 23/50\n",
            "297/297 [==============================] - 1s 2ms/step - loss: 1.7357\n",
            "Epoch 24/50\n",
            "297/297 [==============================] - 0s 2ms/step - loss: 1.7061\n",
            "Epoch 25/50\n",
            "297/297 [==============================] - 0s 2ms/step - loss: 1.6688\n",
            "Epoch 26/50\n",
            "297/297 [==============================] - 1s 2ms/step - loss: 1.6494\n",
            "Epoch 27/50\n",
            "297/297 [==============================] - 0s 1ms/step - loss: 1.6254\n",
            "Epoch 28/50\n",
            "297/297 [==============================] - 0s 2ms/step - loss: 1.6160\n",
            "Epoch 29/50\n",
            "297/297 [==============================] - 0s 1ms/step - loss: 1.5922\n",
            "Epoch 30/50\n",
            "297/297 [==============================] - 0s 2ms/step - loss: 1.5737\n",
            "Epoch 31/50\n",
            "297/297 [==============================] - 0s 2ms/step - loss: 1.5674\n",
            "Epoch 32/50\n",
            "297/297 [==============================] - 1s 2ms/step - loss: 1.5486\n",
            "Epoch 33/50\n",
            "297/297 [==============================] - 1s 2ms/step - loss: 1.5136\n",
            "Epoch 34/50\n",
            "297/297 [==============================] - 1s 2ms/step - loss: 1.4955\n",
            "Epoch 35/50\n",
            "297/297 [==============================] - 1s 2ms/step - loss: 1.4971\n",
            "Epoch 36/50\n",
            "297/297 [==============================] - 1s 2ms/step - loss: 1.4932\n",
            "Epoch 37/50\n",
            "297/297 [==============================] - 0s 2ms/step - loss: 1.4798\n",
            "Epoch 38/50\n",
            "297/297 [==============================] - 0s 2ms/step - loss: 1.4378\n",
            "Epoch 39/50\n",
            "297/297 [==============================] - 0s 1ms/step - loss: 1.4520\n",
            "Epoch 40/50\n",
            "297/297 [==============================] - 0s 2ms/step - loss: 1.4316\n",
            "Epoch 41/50\n",
            "297/297 [==============================] - 0s 2ms/step - loss: 1.4248\n",
            "Epoch 42/50\n",
            "297/297 [==============================] - 1s 2ms/step - loss: 1.4005\n",
            "Epoch 43/50\n",
            "297/297 [==============================] - 1s 2ms/step - loss: 1.3910\n",
            "Epoch 44/50\n",
            "297/297 [==============================] - 0s 2ms/step - loss: 1.4095\n",
            "Epoch 45/50\n",
            "297/297 [==============================] - 0s 2ms/step - loss: 1.3888\n",
            "Epoch 46/50\n",
            "297/297 [==============================] - 0s 2ms/step - loss: 1.3845\n",
            "Epoch 47/50\n",
            "297/297 [==============================] - 0s 2ms/step - loss: 1.3518\n",
            "Epoch 48/50\n",
            "297/297 [==============================] - 1s 2ms/step - loss: 1.3494\n",
            "Epoch 49/50\n",
            "297/297 [==============================] - 0s 2ms/step - loss: 1.3495\n",
            "Epoch 50/50\n",
            "297/297 [==============================] - 1s 2ms/step - loss: 1.3289\n",
            "Training Time:  41.58 seconds\n"
          ]
        }
      ]
    },
    {
      "cell_type": "code",
      "source": [
        "#Displaying model summary\n",
        "\n",
        "model.summary()"
      ],
      "metadata": {
        "colab": {
          "base_uri": "https://localhost:8080/"
        },
        "id": "mzcd-FWAidj9",
        "outputId": "7d62e9e0-d574-42f3-fb4e-b3c6c6bb2d62"
      },
      "execution_count": null,
      "outputs": [
        {
          "output_type": "stream",
          "name": "stdout",
          "text": [
            "Model: \"sequential_2\"\n",
            "_________________________________________________________________\n",
            " Layer (type)                Output Shape              Param #   \n",
            "=================================================================\n",
            " dense_6 (Dense)             (None, 64)                768       \n",
            "                                                                 \n",
            " dense_7 (Dense)             (None, 32)                2080      \n",
            "                                                                 \n",
            " dense_8 (Dense)             (None, 263)               8679      \n",
            "                                                                 \n",
            "=================================================================\n",
            "Total params: 11,527\n",
            "Trainable params: 11,527\n",
            "Non-trainable params: 0\n",
            "_________________________________________________________________\n"
          ]
        }
      ]
    },
    {
      "cell_type": "code",
      "source": [
        "# Generating recommendations for a given district and destination using a custom function\n",
        "\n",
        "def get_recommendations(district, destination, n=5):\n",
        "    dest_set = set()\n",
        "    dest_df = Mhrshtra_tourist_df[Mhrshtra_tourist_df[\"Destination\"] != destination]\n",
        "    dest_df = dest_df[dest_df[\"District\"] == district]\n",
        "    features = dest_df[[\"Domestic Visits\", \"Foreign Visits\", \"Total Visits\",\n",
        "        \"Age: 15-24 yrs   \", \"Age: 15-24 yrs   \", \"Age: 35-44 yrs\",\n",
        "        \"Age: 45-60 yrs\", \"Age:  > 60 yrs\", \"Male:Female\",\n",
        "        \"Purpose: Leisure\", \"Purpose: Non-Leisure\"]]\n",
        "    features = scaler.transform(features)\n",
        "    scores = model.predict(features)\n",
        "    \n",
        "    for i in range(scores.shape[1]):\n",
        "        dest_df[\"score\"] = scores[:,i]\n",
        "        similar_dest = dest_df.nlargest(n+1, \"score\")\n",
        "        similar_dest = similar_dest[similar_dest[\"Destination\"] != destination]\n",
        "        dest_set.update(similar_dest[\"Destination\"].values[:n])\n",
        "\n",
        "    return list(dest_set)[:n]"
      ],
      "metadata": {
        "id": "gBPlMF36flx1"
      },
      "execution_count": null,
      "outputs": []
    },
    {
      "cell_type": "code",
      "source": [
        "# Testing the recommendation system on a sample input\n",
        "\n",
        "print(\"Destinations similar to Gateway of India in Mumbai\\n\")\n",
        "print(get_recommendations(\"MUMBAI\",\"Gateway of India\"))"
      ],
      "metadata": {
        "colab": {
          "base_uri": "https://localhost:8080/"
        },
        "id": "i72US2qZVxKJ",
        "outputId": "03f98723-bd61-4466-896f-2b6d45b66252"
      },
      "execution_count": null,
      "outputs": [
        {
          "output_type": "stream",
          "name": "stdout",
          "text": [
            "Destinations similar to Gateway of India in Mumbai\n",
            "\n",
            "7/7 [==============================] - 0s 2ms/step\n",
            "['Prince of wales museum,', 'Nehru Planetarium', 'Jahangir art gallery', 'Elephanta caves', 'Mahalaxmi temple']\n"
          ]
        }
      ]
    },
    {
      "cell_type": "markdown",
      "source": [
        "##### We will now deliberately choose an example where the district and destination are different, for instance, Gateway of India is in Mumbai, but we intentionally used Pune as the input destination. Therefore, the recommended destinations are all located within the district of Pune."
      ],
      "metadata": {
        "id": "c9K_aneVpgHl"
      }
    },
    {
      "cell_type": "code",
      "source": [
        "#We are now testing the recommendation system using a sample input where we are \n",
        "#seeking destinations in Pune that are similar to Gateway of India.\n",
        "\n",
        "res = get_recommendations(\"PUNE\", \"Gateway of India\")\n",
        "print(f\"\\nDestinations Similar to Gateway of India in Pune are: \\n \")\n",
        "for r in res:\n",
        "    print(r)"
      ],
      "metadata": {
        "colab": {
          "base_uri": "https://localhost:8080/"
        },
        "id": "YsV12Bu2nF_4",
        "outputId": "3c106b3d-601c-44ce-b5be-e0922bdafa99"
      },
      "execution_count": null,
      "outputs": [
        {
          "output_type": "stream",
          "name": "stdout",
          "text": [
            "19/19 [==============================] - 0s 2ms/step\n",
            "\n",
            "Destinations Similar to Gateway of India in Pune are: \n",
            " \n",
            "Katraj Garden\n",
            "Panshet Dam\n",
            "Khurundar Fort\n",
            "Shivneri Fort\n",
            "Rajgarh Fort\n"
          ]
        }
      ]
    },
    {
      "cell_type": "markdown",
      "source": [
        "**To receive recommendations for similar locations within the same district, you may rerun the cell with the correct district and destination inputs.**"
      ],
      "metadata": {
        "id": "itA1EL0b3kVZ"
      }
    },
    {
      "cell_type": "code",
      "source": [
        "# Testing the recommendation system using the chosen district and destination\n",
        "\n",
        "user_input_district = input(\"Enter the District: \")\n",
        "user_input_dest = input(\"Enter the Destination: \")\n",
        "\n",
        "res = get_recommendations(user_input_district.upper(), user_input_dest.capitalize())\n",
        "print(f\"\\nDestinations similar to {user_input_dest.capitalize()} in {user_input_district.capitalize()} are:\\n\")\n",
        "for r in res:\n",
        "    print(r)"
      ],
      "metadata": {
        "colab": {
          "base_uri": "https://localhost:8080/"
        },
        "id": "vxev0s4ktGfA",
        "outputId": "ab8d58b6-92fc-406e-d64f-3c4590cfb023"
      },
      "execution_count": null,
      "outputs": [
        {
          "output_type": "stream",
          "name": "stdout",
          "text": [
            "Enter the District: sindhudurg\n",
            "Enter the Destination: Malvan beach\n",
            "12/12 [==============================] - 0s 1ms/step\n",
            "\n",
            "Destinations similar to Malvan beach in Sindhudurg are:\n",
            "\n",
            "Tarkarli\n",
            "Amboli Waterfall\n",
            "Vijaydurg fort\n",
            "Arunda Creek\n",
            "Tilhari Dam\n"
          ]
        }
      ]
    },
    {
      "cell_type": "markdown",
      "source": [
        "## Conclusion"
      ],
      "metadata": {
        "id": "C5u5DmaCkOff"
      }
    },
    {
      "cell_type": "markdown",
      "source": [
        "##### We began our research by attempting to gather tourism data for various states throughout India, but the process proved to be dauntingly challenging. As a result, we narrowed our focus to the state of Maharashtra and specifically examined data from 2011 to 2014. Despite these limitations, we were able to obtain a significant amount of relevant data from a variety of sources, which we compiled into a single file. After cleaning and preprocessing the data, we generated insights through exploratory data analysis and visualization. Moving forward, our goal is to develop a recommendation system that can suggest similar tourist destinations within a given district."
      ],
      "metadata": {
        "id": "belr-feimlSR"
      }
    },
    {
      "cell_type": "markdown",
      "source": [
        "## Future Scope of the Project"
      ],
      "metadata": {
        "id": "foQ_yLX3kQyk"
      }
    },
    {
      "cell_type": "markdown",
      "source": [
        "1. Generating different insights and visualizations is possible by modifying the queries.\n",
        "2. Clustering algorithms can be employed to group similar destinations and districts.\n",
        "3. The current recommendation system can be enhanced by considering whether the tourist is domestic or foreign.\n",
        "4. Adding more states from across India to the dataset can improve its quality.\n",
        "5. To provide more up-to-date recommendations, additional years of tourist data beyond 2011, 2012, 2013, and 2014 can be included in the dataset"
      ],
      "metadata": {
        "id": "WT_IfoQrtlw7"
      }
    }
  ]
}